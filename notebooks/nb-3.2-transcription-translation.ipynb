{
 "cells": [
  {
   "attachments": {},
   "cell_type": "markdown",
   "metadata": {},
   "source": [
    "# Notebook 3.2: Gene transcription and translation\n",
    "\n",
    "This notebook is associated with the following accompanied reading: \n",
    "\n",
    "+ [Optional] additional reading on the GFF file format and how it encodes genomic information: [The Sequence Ontology](https://github.com/The-Sequence-Ontology/Specifications/blob/master/gff3.md). \n"
   ]
  },
  {
   "cell_type": "markdown",
   "metadata": {},
   "source": [
    "## Learning objectives: \n",
    "\n",
    "By the end of this module you should be able to:\n",
    "\n",
    "1. Use a Python dictionary to represent the genetic code.\n",
    "2. Desribe how genes, mRNA transcipts, and proteins are related. \n",
    "3. Synthetically translate and transcribe genes using Python.\n"
   ]
  },
  {
   "cell_type": "markdown",
   "metadata": {},
   "source": [
    "## Introduction to gene expression\n",
    "\n",
    "Genomes contain thousands of genes, as well as many other regions that do not contain genes and may or may not have some other function. Genes are often of special interest as they are the units that encode the information for proteins, and therefore for much of the primary biological functions in organisms. The [central dogma of molecular biology](https://en.wikipedia.org/wiki/Central_dogma_of_molecular_biology) which relates how information is stored and transferred between DNA, RNA, and proteins was discovered shortly after the discovery that DNA itself is the molecule of genetic information storage. \n",
    "\n",
    "The DNA sequence of genes provides the underlying information for gene **transcription**. This is the process by which the enzyme RNA polymerase uses a stretch of DNA as a template from which to synthesize a complementary RNA strand. The sequence of DNA contains information such as a promoter sequence that is recognized by RNA polymerase to initiate the start and end points of transcription. Proteins such transcription factors and polymerases do the actual work of promoting or suppressing binding of polymerases, therefore regulating the *expression of genes*, i.e., the amount of RNA transcripts that are generated. \n",
    "\n",
    "Messenger RNA (mRNA) transcripts are a type of RNA that encodes for an [amino acid](https://en.wikipedia.org/wiki/Amino_acid) sequence of a polypeptide (a protein, generally). The codon sequence in mRNA is composed of sets of three bases at a time, starting from a special codon that initiates the sequence called a [start codon](https://en.wikipedia.org/wiki/Start_codon), and ends at a codon that signals the end termed a [stop codon](https://en.wikipedia.org/wiki/Stop_codon). The sequence of codons will be **translated** by ribosomes into an amino acid sequence that will fold to form the polypeptide."
   ]
  },
  {
   "cell_type": "markdown",
   "metadata": {},
   "source": [
    "## The genetic code:\n",
    "We can easily represent the genetic code for translation using a Python dictionary. Here the keys are codons (sets of three bases) and the values are amino acid residues (represented by the shorthand single letter codes: e.g., L = leucine). We can query this dictionary object with a codon \"CTA\" and it will return the amino acid \"L\". "
   ]
  },
  {
   "cell_type": "code",
   "execution_count": null,
   "metadata": {},
   "outputs": [],
   "source": [
    "GENCODE = {\n",
    "    'ATA': 'I', 'ATC': 'I', 'ATT': 'I', 'ATG': 'M', \n",
    "    'ACA': 'T', 'ACC': 'T', 'ACG': 'T', 'ACT': 'T', \n",
    "    'AAC': 'N', 'AAT': 'N', 'AAA': 'K', 'AAG': 'K', \n",
    "    'AGC': 'S', 'AGT': 'S', 'AGA': 'R', 'AGG': 'R',                  \n",
    "    'CTA': 'L', 'CTC': 'L', 'CTG': 'L', 'CTT': 'L', \n",
    "    'CCA': 'P', 'CCC': 'P', 'CCG': 'P', 'CCT': 'P', \n",
    "    'CAC': 'H', 'CAT': 'H', 'CAA': 'Q', 'CAG': 'Q', \n",
    "    'CGA': 'R', 'CGC': 'R', 'CGG': 'R', 'CGT': 'R', \n",
    "    'GTA': 'V', 'GTC': 'V', 'GTG': 'V', 'GTT': 'V', \n",
    "    'GCA': 'A', 'GCC': 'A', 'GCG': 'A', 'GCT': 'A', \n",
    "    'GAC': 'D', 'GAT': 'D', 'GAA': 'E', 'GAG': 'E', \n",
    "    'GGA': 'G', 'GGC': 'G', 'GGG': 'G', 'GGT': 'G', \n",
    "    'TCA': 'S', 'TCC': 'S', 'TCG': 'S', 'TCT': 'S', \n",
    "    'TTC': 'F', 'TTT': 'F', 'TTA': 'L', 'TTG': 'L', \n",
    "    'TAC': 'Y', 'TAT': 'Y', 'TAA': '_', 'TAG': '_', \n",
    "    'TGC': 'C', 'TGT': 'C', 'TGA': '_', 'TGG': 'W', \n",
    "} "
   ]
  },
  {
   "cell_type": "code",
   "execution_count": null,
   "metadata": {},
   "outputs": [],
   "source": [
    "GENCODE[\"CTA\"]"
   ]
  },
  {
   "cell_type": "markdown",
   "metadata": {},
   "source": [
    "## A biological example\n",
    "\n",
    "Although transcription and translation of genetic information takes place entirely through the interactions of molecules (amazingly), it is still simply a transfer and translation of information; as such, we can emulate it using digital information, and code. Let's transcribe and translate an example portion of a genome sequence that contains a gene using some example Python code. We'll start by generating the sequence itself. "
   ]
  },
  {
   "cell_type": "code",
   "execution_count": null,
   "metadata": {},
   "outputs": [],
   "source": [
    "# we'll use the random function \n",
    "import random"
   ]
  },
  {
   "cell_type": "code",
   "execution_count": null,
   "metadata": {},
   "outputs": [],
   "source": [
    "def random_dna(length):\n",
    "    \"returns a string of randomly drawn bases of A,C,T,G\"\n",
    "    seq = \"\".join([random.choice(\"ACGT\") for i in range(length)])\n",
    "    return seq"
   ]
  },
  {
   "cell_type": "code",
   "execution_count": null,
   "metadata": {},
   "outputs": [],
   "source": [
    "random_dna(20)"
   ]
  },
  {
   "cell_type": "code",
   "execution_count": null,
   "metadata": {},
   "outputs": [],
   "source": [
    "def random_coding_dna(length):\n",
    "    \"\"\"\n",
    "    returns a string of (length) joined random triplets of bases\n",
    "    (codons) not including start or stop codons. \n",
    "    \"\"\"\n",
    "    # empty string to fill\n",
    "    seq = \"\"\n",
    "    \n",
    "    # list of all codons except start and stops\n",
    "    codons = [\n",
    "        i for i in GENCODE.keys() if i not in\n",
    "        [\"ATG\", \"TGA\", \"TAA\", \"TAG\"]\n",
    "    ]\n",
    "    \n",
    "    # fill string with n random codons\n",
    "    seq = \"\".join([random.choice(codons) for i in range(length)])\n",
    "    return seq"
   ]
  },
  {
   "cell_type": "code",
   "execution_count": null,
   "metadata": {},
   "outputs": [],
   "source": [
    "random_coding_dna(20)"
   ]
  },
  {
   "cell_type": "markdown",
   "metadata": {},
   "source": [
    "### Start and stop codons\n",
    "The primary start codon in eukaryotes is \"AUG\" (Ts are replaced with \"U\" in mRNA), which is \"ATG\" in DNA, and translates to methionine. There are three stop codons, UGA, UAA, and UAG (\"TGA\", \"TAA\", and \"TAG\" in DNA sequence). You can see in the GENCODE dictionary above these do not translate to an amino acid but instead stop translation. We'll add a start and stop codon to our sequence as well. We're now ready to simulate a genomic region. \n",
    "\n",
    "Our aim is to simulate a region that looks like this:\n",
    "\n",
    "```\n",
    "----non-coding-region----|-----coding-region------|-----non-coding-region-------\n",
    "                       (ATG)                    (TGA)\n",
    "```\n",
    "\n",
    "Here we expect that in the coding region, between the ATG and TGA codons, all of the DNA will be in phase so that it is composed of a series of codons that will not terminate by a stop codon too early. By contrast, in the non-coding region it is just random DNA and there may be sequences that by chance look like a stop or start codon, but they are not actually transcribed or translated. We can simulate this by combining `string` objects for each part of the DNA. "
   ]
  },
  {
   "cell_type": "code",
   "execution_count": null,
   "metadata": {},
   "outputs": [],
   "source": [
    "# use a random seed so we will all draw the same random values each time (repeatable) \n",
    "random.seed(12345)\n",
    "\n",
    "# create a genomic region containing a coding region surrounded by non-coding DNA\n",
    "region = random_dna(300) + \"ATG\" + random_coding_dna(300) + \"TGA\" +  random_dna(300)\n",
    "region"
   ]
  },
  {
   "cell_type": "markdown",
   "metadata": {},
   "source": [
    "### Explore transcription with Python dictionaries\n",
    "\n",
    "OK, now that we have a genomic region that should contain a gene, let's try to extract the gene region from the DNA sequence data by translating the data. We could start by using a very naive approach of testing each region as a possible start site. Or, given that we know the sequence of start codons, we could look for those sequences and try to test whether it looks like a true start codon sequence, or a chance event of three bases arising together. \n",
    "\n",
    "Let's start by checking how many start codons are in the sequence by searching the region variable (a string object) for the \"ATG\" sequence. This could be done in a number of ways using functions of string objects. "
   ]
  },
  {
   "cell_type": "code",
   "execution_count": null,
   "metadata": {},
   "outputs": [],
   "source": [
    "# finds position of the first occurrence and returns it as an integer\n",
    "region.index(\"ATG\")"
   ]
  },
  {
   "cell_type": "code",
   "execution_count": null,
   "metadata": {},
   "outputs": [],
   "source": [
    "# split on every occurence to return a list, and count the length of the list\n",
    "len(region.split(\"ATG\"))"
   ]
  },
  {
   "cell_type": "code",
   "execution_count": null,
   "metadata": {},
   "outputs": [],
   "source": [
    "# best: get a list with every ATG start position\n",
    "starts = [i for (i, j) in enumerate(region) if region[i: i+3] == \"ATG\"]\n",
    "starts"
   ]
  },
  {
   "cell_type": "markdown",
   "metadata": {},
   "source": [
    "OK, there are **16** occurrences of \"ATG\" in the genomic segment. You can see why this is not a very accurate approach to finding coding regions, since we only inserted one true \"ATG\" codon. Because almost any combination of three bases encodes for an amino acid, random sequences can look like a string of valid codons. Our goal is find the correct start site and read the codons in the correct phase (sets of 3) until the stop codon.\n",
    "\n",
    "Well, another approach is that we can start from each occurrence of ATG and search by multiples of three forward to see how long until it matches the next stop codon. We might expect that non-coding regions will randomly generate a stop codon sooner. The code below will print output for each start position. "
   ]
  },
  {
   "cell_type": "code",
   "execution_count": null,
   "metadata": {},
   "outputs": [],
   "source": [
    "# test from each start position how many subsequent triplets are valid codons\n",
    "for start_pos in starts:\n",
    "    \n",
    "    # a counter for the number of codons until next stop codon\n",
    "    ncodons = 0\n",
    "    \n",
    "    # a counter to advance 3 positions at a time\n",
    "    idx = start_pos\n",
    "    \n",
    "    # a loop to continue until told to stop (break)\n",
    "    while 1:\n",
    "        \n",
    "        # get codon from this position until + 3 \n",
    "        codon = region[idx: idx + 3]\n",
    "        \n",
    "        # if this is a stop codon then move on to the next start_pos\n",
    "        #print(idx, len(region), codon)\n",
    "        if GENCODE[codon] == \"_\":\n",
    "            print(\"start pos: {:<3}, codons until stop: {}\".format(start_pos, ncodons))\n",
    "            break\n",
    "            \n",
    "        # if not a stop codon then advance 3 more steps\n",
    "        else:\n",
    "            # advance position \n",
    "            idx += 3\n",
    "            \n",
    "            # if next end pos is beyond the sequence end then break the loop\n",
    "            if idx + 3 >= len(region):\n",
    "                break  \n",
    "            # otherwise record that another codon was observed\n",
    "            else:\n",
    "                ncodons += 1"
   ]
  },
  {
   "cell_type": "markdown",
   "metadata": {},
   "source": [
    "<div class=\"alert alert-success\">\n",
    "    <b>Question [3]:</b> \n",
    "    Does the true codon start position (the one we used when simulating the sequence) have the longest stretch of codons after it before hitting a stop codon? Do you think this would generally be an accurate method for identifying coding regions? Answer in markdown below. \n",
    "\n",
    "</div>"
   ]
  },
  {
   "cell_type": "markdown",
   "metadata": {},
   "source": [
    "<div class=\"alert alert-warning\">\n",
    "    <h3>Response</h3> \n",
    "\n",
    "Enter your response here.\n",
    "\n",
    "</div>\n"
   ]
  },
  {
   "cell_type": "markdown",
   "metadata": {},
   "source": [
    "### Exons and Introns\n",
    "\n",
    "In eukaryotes the story can often be a bit more complicated. In turns out that the mRNA sequence transcribed from DNA is not always entirely translated into coding sequence, instead there are sometimes interspersed breaks of noncoding sequence that interrupt them. The coding regions are termed **exons** and the intervening non-coding regions **introns**. During transcription the region of the mRNA that is intronic is removed and the exonic regions are spliced together to form the final transcript.\n",
    "\n"
   ]
  },
  {
   "cell_type": "markdown",
   "metadata": {},
   "source": [
    "<div class=\"alert alert-success\">\n",
    "    <b>Question [4]:</b> \n",
    "    If you didn't consider exons and introns in your answer above, does the existence of intronic non-coding regions between exons affect your estimate of the accuracy of using translation of DNA sequences to estimate which regions are coding? Answer in Markdown below. \n",
    "</div>"
   ]
  },
  {
   "cell_type": "markdown",
   "metadata": {},
   "source": [
    "<div class=\"alert alert-warning\">\n",
    "    <h3>Response</h3> \n",
    "\n",
    "Enter your response here.\n",
    "</div>\n",
    "\n",
    "\n"
   ]
  },
  {
   "cell_type": "markdown",
   "metadata": {},
   "source": [
    "### The canonical gene\n",
    "\n",
    "The figure below is copied from a slightly outdated review on genome annotation methods ([A guide to eukaryotic genome assembly](https://doi.org/10.1038/nrg3174). It shows a region of a genome that contains a gene. But how do we know this? How do we identify that one region of DNA contains a gene while another does not? This is the main question that *genome annotation* aims to answer. Our best approaches currently use a combination of information from many approaches, including DNA, RNA, and protein evidence. \n",
    "\n",
    "For example, we can try to infer the location of genes from the DNA sequence itself, as we did above, but for this we generally use additional information beyond the location of methionine and stop codon sites. Instead, we'll look for longer stretches of DNA that represent binding regions for transcriptional proteins. These types of sequences are well characterized since they tend to be highly conserved (they don't accumulate mutations very rapidly and thus tend to be similar among species). The binding of transcription factor proteins to these regions affects how and when genes are transcribed. This is represented in the figure below by a \"promoter\" region. \n",
    "\n",
    "Huge advances have been made in identifying transcribed regions of genomes using a technology called **RNA-seq** (see below and we'll learn much more about this in future classes), which allows us to identify the transcribed region of a genome. In addition, as was described in your first week's reading, we have long been able to decode the amino acid sequence of proteins as well -- in fact this was developed before our ability to sequence DNA. From the sequence of proteins we can also infer which regions have been translated or spliced from transcripts.\n",
    "\n",
    "When all of this information is combined together we end up with a **nested set** of hierarchical information, where one feature (e.g., mRNA transcripts) is expected to be associated with one or more other downstream features (exons). We keep track not only of each of these features as they are identified, but also which type of evidence was used to find it in the first place. The GFF file format contains this information. \n",
    "\n",
    "![alt text](https://raw.githubusercontent.com/The-Sequence-Ontology/Specifications/master/img/figure1.png)"
   ]
  },
  {
   "cell_type": "markdown",
   "metadata": {},
   "source": [
    "### Lines of evidence\n",
    "\n",
    "\n",
    "#### cDNA and RNA-seq\n",
    "By extracting RNA from an organism, and [reverse transcribing](https://en.wikipedia.org/wiki/Reverse_transcriptase) it back to DNA we create [cDNA](https://en.wikipedia.org/wiki/Complementary_DNA). We can then match the cDNA sequence to the genome to figure out which regions were trascribed into RNA. As you can see in the figure, cDNA can then identify the locations of transcripts. Different tissues or organs of an organism might express different genes at different times and so the cDNA from one cell will not match exactly the cDNA of another cell. We will discuss more the use of RNA-seq or exome sequencing later in the class.\n",
    "\n",
    "![alt text](https://raw.githubusercontent.com/The-Sequence-Ontology/Specifications/master/img/figure2.png)"
   ]
  }
 ],
 "metadata": {
  "kernelspec": {
   "display_name": "Python 3 (ipykernel)",
   "language": "python",
   "name": "python3"
  },
  "language_info": {
   "codemirror_mode": {
    "name": "ipython",
    "version": 3
   },
   "file_extension": ".py",
   "mimetype": "text/x-python",
   "name": "python",
   "nbconvert_exporter": "python",
   "pygments_lexer": "ipython3",
   "version": "3.10.12"
  }
 },
 "nbformat": 4,
 "nbformat_minor": 4
}
