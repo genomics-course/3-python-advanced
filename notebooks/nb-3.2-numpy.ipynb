{
 "cells": [
  {
   "cell_type": "markdown",
   "metadata": {},
   "source": [
    "## Notebook 3.2: Introduction to Numpy"
   ]
  },
  {
   "cell_type": "markdown",
   "metadata": {},
   "source": [
    "This notebook is associated with the following accompanied reading: \n",
    "\n",
    "+ Yandell, Mark, and Daniel Ence. 2012. “A Beginner’s Guide to Eukaryotic Genome Annotation.” Nature Reviews Genetics 13 (5): 329–42. https://doi.org/10.1038/nrg3174.\n",
    "\n",
    "\n",
    "+ The Python Data Science Handbook **Chapter 2** https://jakevdp.github.io/PythonDataScienceHandbook/\n"
   ]
  },
  {
   "cell_type": "markdown",
   "metadata": {},
   "source": [
    "## Learning objectives: \n",
    "\n",
    "By the end of this module you should be able to:\n",
    "\n",
    "1. Find and use scientific and numerical functions in `numpy`.\n",
    "2. Generate arrays of data and compute values on them. \n",
    "3. Understand the difference between lists and numpy arrays.\n",
    "4. Calculate N50 contig size. \n"
   ]
  },
  {
   "cell_type": "markdown",
   "metadata": {},
   "source": [
    "## Introduction to numpy\n",
    "\n",
    "This notebook should be completed while reading Chapter 2 of the Data Science Handbook that was assigned for your reading. The numpy library is a *third party* Python library, meaning that it is not distributed by default with every Python installation. It can be easily installed however, and provides a huge suite of tools for scientific computing. I think that the assigned Chapter introduces numpy very well, so this notebook will mostly consist of exercises to test your comprehension of the reading. "
   ]
  },
  {
   "cell_type": "code",
   "execution_count": 195,
   "metadata": {},
   "outputs": [],
   "source": [
    "# start by importing numpy \n",
    "import numpy as np\n"
   ]
  },
  {
   "cell_type": "markdown",
   "metadata": {},
   "source": [
    "### Create a numpy array\n",
    "There are many ways to create a numpy array. Numpy has several built-in functions for generating arrays that are composed entirely of one value, or a range of values using `.zeros()`, `.ones()`, or `.arange()`; or, we can also generate an array by passing in a list like in the last two examples below. "
   ]
  },
  {
   "cell_type": "code",
   "execution_count": 196,
   "metadata": {},
   "outputs": [
    {
     "data": {
      "text/plain": [
       "array([0., 0., 0., 0., 0., 0., 0., 0., 0., 0.])"
      ]
     },
     "execution_count": 196,
     "metadata": {},
     "output_type": "execute_result"
    }
   ],
   "source": [
    "# create an array with ten items in it that are all zeros\n",
    "np.zeros(10)"
   ]
  },
  {
   "cell_type": "code",
   "execution_count": 197,
   "metadata": {},
   "outputs": [
    {
     "data": {
      "text/plain": [
       "array([0, 0, 0, 0, 0, 0, 0, 0, 0, 0])"
      ]
     },
     "execution_count": 197,
     "metadata": {},
     "output_type": "execute_result"
    }
   ],
   "source": [
    "# create an array with ten items that are all zeros as integers\n",
    "np.zeros(10, dtype=int)"
   ]
  },
  {
   "cell_type": "code",
   "execution_count": 198,
   "metadata": {},
   "outputs": [
    {
     "data": {
      "text/plain": [
       "array([0, 1, 2, 3, 4, 5, 6, 7, 8, 9])"
      ]
     },
     "execution_count": 198,
     "metadata": {},
     "output_type": "execute_result"
    }
   ],
   "source": [
    "# create an array with a range of values from 0-10\n",
    "np.arange(0, 10)"
   ]
  },
  {
   "cell_type": "code",
   "execution_count": 199,
   "metadata": {},
   "outputs": [
    {
     "data": {
      "text/plain": [
       "array([ 0,  3,  4, 10,  2,  2,  2,  2])"
      ]
     },
     "execution_count": 199,
     "metadata": {},
     "output_type": "execute_result"
    }
   ],
   "source": [
    "# create an array from a list\n",
    "np.array([0, 3, 4, 10, 2, 2, 2, 2])"
   ]
  },
  {
   "cell_type": "code",
   "execution_count": 200,
   "metadata": {},
   "outputs": [
    {
     "data": {
      "text/plain": [
       "array([0, 1, 0, 1, 0, 1, 0, 1, 0, 1])"
      ]
     },
     "execution_count": 200,
     "metadata": {},
     "output_type": "execute_result"
    }
   ],
   "source": [
    "# create an array that is made of 0 and 1 alternating\n",
    "np.array([0, 1] * 5)"
   ]
  },
  {
   "cell_type": "markdown",
   "metadata": {},
   "source": [
    "### However, the datatype is important... \n",
    "When you create a numpy array from a list it tries to infer the datatype from contents of the list. Above, when we created a list of all int elements it created an int array. However, when we pass it a list below where some elements are ints and some are strings, it converts everything to strings. **This is because numpy works most efficiently by storing all data in an array as a single datatype**. You can create arrays with a mixed datatype but you lose much of the efficiency of numpy when you do so. "
   ]
  },
  {
   "cell_type": "code",
   "execution_count": 201,
   "metadata": {},
   "outputs": [
    {
     "data": {
      "text/plain": [
       "array(['0', '1', 'apple', 'orange'], dtype='<U21')"
      ]
     },
     "execution_count": 201,
     "metadata": {},
     "output_type": "execute_result"
    }
   ],
   "source": [
    "# mixed type lists will be converted to a single dtype array\n",
    "np.array([0, 1, \"apple\", \"orange\"])"
   ]
  },
  {
   "cell_type": "markdown",
   "metadata": {},
   "source": [
    "## Dimensions and indexing\n",
    "\n",
    "Numpy arrays can be indexed just like Python list objects to select particular elements from them. In addition to the one dimension in which lists can be indexed, however, arrays can be indexed in multiple dimensions to select both rows and columns, and they can apply functions over these indices as well. If you need a refresher on how to `index` and `slice` objects in Python look back at our reading from last week ([link](https://docs.python.org/3/tutorial/introduction.html)), or google \"python indexing\". "
   ]
  },
  {
   "cell_type": "code",
   "execution_count": 202,
   "metadata": {},
   "outputs": [
    {
     "data": {
      "text/plain": [
       "array([[0., 0., 0., 0.],\n",
       "       [0., 0., 0., 0.],\n",
       "       [0., 0., 0., 0.],\n",
       "       [0., 0., 0., 0.]])"
      ]
     },
     "execution_count": 202,
     "metadata": {},
     "output_type": "execute_result"
    }
   ],
   "source": [
    "# create a 2-dimensional array \n",
    "np.zeros((4, 4))"
   ]
  },
  {
   "cell_type": "code",
   "execution_count": 203,
   "metadata": {},
   "outputs": [
    {
     "data": {
      "text/plain": [
       "array([[[0., 0., 0.],\n",
       "        [0., 0., 0.],\n",
       "        [0., 0., 0.]],\n",
       "\n",
       "       [[0., 0., 0.],\n",
       "        [0., 0., 0.],\n",
       "        [0., 0., 0.]],\n",
       "\n",
       "       [[0., 0., 0.],\n",
       "        [0., 0., 0.],\n",
       "        [0., 0., 0.]],\n",
       "\n",
       "       [[0., 0., 0.],\n",
       "        [0., 0., 0.],\n",
       "        [0., 0., 0.]],\n",
       "\n",
       "       [[0., 0., 0.],\n",
       "        [0., 0., 0.],\n",
       "        [0., 0., 0.]]])"
      ]
     },
     "execution_count": 203,
     "metadata": {},
     "output_type": "execute_result"
    }
   ],
   "source": [
    "# create a 3-dimensional array\n",
    "np.zeros((5, 3, 3))\n"
   ]
  },
  {
   "cell_type": "code",
   "execution_count": 204,
   "metadata": {},
   "outputs": [
    {
     "data": {
      "text/plain": [
       "3"
      ]
     },
     "execution_count": 204,
     "metadata": {},
     "output_type": "execute_result"
    }
   ],
   "source": [
    "# index the third element in a 1-d array\n",
    "np.arange(100)[3]"
   ]
  },
  {
   "cell_type": "code",
   "execution_count": 205,
   "metadata": {},
   "outputs": [
    {
     "data": {
      "text/plain": [
       "array([3, 4, 5, 6, 7, 8, 9])"
      ]
     },
     "execution_count": 205,
     "metadata": {},
     "output_type": "execute_result"
    }
   ],
   "source": [
    "# slice the third through tenth elements in a 1-d array\n",
    "np.arange(100)[3:10]"
   ]
  },
  {
   "cell_type": "markdown",
   "metadata": {},
   "source": [
    "### Testing your skills"
   ]
  },
  {
   "cell_type": "markdown",
   "metadata": {},
   "source": [
    "<div class=\"alert alert-success\">\n",
    "    <b>Action [5]:</b> \n",
    "    Create a 2-dimensional array with 3 rows and 5 columns that is composed entirely of cells with the integer value 35. \n",
    "</div>"
   ]
  },
  {
   "cell_type": "code",
   "execution_count": 209,
   "metadata": {},
   "outputs": [
    {
     "data": {
      "text/plain": [
       "array([[35, 35, 35, 35, 35],\n",
       "       [35, 35, 35, 35, 35],\n",
       "       [35, 35, 35, 35, 35]])"
      ]
     },
     "execution_count": 209,
     "metadata": {},
     "output_type": "execute_result"
    }
   ],
   "source": [
    "np.full((3, 5), 35)"
   ]
  },
  {
   "cell_type": "markdown",
   "metadata": {},
   "source": [
    "<div class=\"alert alert-success\">\n",
    "    <b>Action [6]:</b> \n",
    "    Create a 2-dimensional array of size (3, 5) that is composed of random integers generated by numpy.\n",
    "</div>"
   ]
  },
  {
   "cell_type": "code",
   "execution_count": 211,
   "metadata": {},
   "outputs": [
    {
     "data": {
      "text/plain": [
       "array([[33, 55, 90, 20, 62],\n",
       "       [84,  7, 99, 12, 30],\n",
       "       [41, 28, 54,  2, 11]])"
      ]
     },
     "execution_count": 211,
     "metadata": {},
     "output_type": "execute_result"
    }
   ],
   "source": [
    "np.random.randint(0, 100, size=(3, 5))"
   ]
  },
  {
   "cell_type": "markdown",
   "metadata": {},
   "source": [
    "<div class=\"alert alert-success\">\n",
    "    <b>Action [7]:</b> \n",
    "    Return the values [24, 25, 26] from the array below by using slicing. \n",
    "</div>"
   ]
  },
  {
   "cell_type": "code",
   "execution_count": 215,
   "metadata": {},
   "outputs": [
    {
     "data": {
      "text/plain": [
       "array([24, 25, 26])"
      ]
     },
     "execution_count": 215,
     "metadata": {},
     "output_type": "execute_result"
    }
   ],
   "source": [
    "arr = np.arange(40)\n",
    "arr[24:27]"
   ]
  },
  {
   "cell_type": "markdown",
   "metadata": {},
   "source": [
    "<div class=\"alert alert-success\">\n",
    "    <b>Action [8]:</b> \n",
    "    Return the values [14, 16, 18, 20, 22] from the array below by slicing. \n",
    "</div>"
   ]
  },
  {
   "cell_type": "code",
   "execution_count": 219,
   "metadata": {},
   "outputs": [
    {
     "data": {
      "text/plain": [
       "array([14, 16, 18, 20, 22])"
      ]
     },
     "execution_count": 219,
     "metadata": {},
     "output_type": "execute_result"
    }
   ],
   "source": [
    "arr = np.arange(24).reshape((12, 2))\n",
    "arr[7:, 0]"
   ]
  },
  {
   "cell_type": "markdown",
   "metadata": {},
   "source": [
    "## Filling an array with data\n",
    "\n",
    "When learning about lists and dictionaries we learned that a convenient way to use these objects is to first create an empty list or dictionary and then fill it with values as you iterate over some process and append items to the list, or add new key/val pairs to the dictionary. In numpy you have to do things a bit differently. You start by creating an array that is the full size that you plan to work, initialized with some null value like zeros, and then you update the values with new data. \n",
    "\n",
    "The difference between these two approaches may seem subtle, but it can lead to huge speed improvements when done correctly in numpy. This is because numpy essentially reserves space in your computers memory for the size of the `array`, whereas a `list` that changes size as you extend it will need to keep updating the object in memory. As explained in your reading, this allows numpy to perform calculations using compiled functions in faster languages like C and fortran; it's a workaround that allows us to write pretty Python code but still benefit from super fast speed. \n",
    "\n",
    "These details only begin to matter when you do pretty high level computing, but it's worth learning the motivation for why we use numpy, and why the code looks the way that it does.  "
   ]
  },
  {
   "cell_type": "code",
   "execution_count": 220,
   "metadata": {},
   "outputs": [],
   "source": [
    "# good practice with lists: start with an empty list and fill it as you iterate\n",
    "empty = []\n",
    "for i in range(100):\n",
    "    empty.append(i)"
   ]
  },
  {
   "cell_type": "code",
   "execution_count": 221,
   "metadata": {},
   "outputs": [],
   "source": [
    "# filling an empty array doesn't work like with lists\n",
    "empty = np.array([])\n",
    "for i in range(100):\n",
    "    # ... a function does not exist to extend the size of arrays.\n",
    "    # ... only to generate new arrays of a given size\n",
    "    pass"
   ]
  },
  {
   "cell_type": "code",
   "execution_count": 222,
   "metadata": {},
   "outputs": [],
   "source": [
    "# instead, you create the full sized array with null values and update them by indexing\n",
    "empty = np.zeros(100)\n",
    "for i in range(100):\n",
    "    empty[i] = i"
   ]
  },
  {
   "cell_type": "markdown",
   "metadata": {},
   "source": [
    "## Biological examples\n"
   ]
  },
  {
   "cell_type": "markdown",
   "metadata": {},
   "source": [
    "<div class=\"alert alert-success\">\n",
    "    <b>Question [9]:</b> \n",
    "In your reading by Yandell and Ence they describe the use of summary statistics for describing the completeness and contiguity of a genome assembly. In Box 1 this includes a description of the N50 statistic. Using Markdown explain what an N50 contig size, and an N50 scaffold size. Is  bigger or smaller N50 better?\n",
    "\n",
    "</div>"
   ]
  },
  {
   "cell_type": "markdown",
   "metadata": {},
   "source": [
    "N50 contig or scaffold size is a statistic to describe the completeness of a genome assembly. Larger values mean that the genome is assembled and ordered into larger contiguous sequences. The statistic is calculated by ordering all contigs (or scaffolds) in a list by their length and calculating the running sum until it equals one-half of the total length of all contigs (or scaffolds). The length of the smallest contig (or scaffold) in this list is the N50 size. "
   ]
  },
  {
   "cell_type": "markdown",
   "metadata": {},
   "source": [
    "### Computing N50 with numpy "
   ]
  },
  {
   "cell_type": "markdown",
   "metadata": {},
   "source": [
    "<div class=\"alert alert-success\">\n",
    "    <b>Action [10]:</b> \n",
    "Insert short comments at the indicated positions in the 10 code cells below to describe what each chunk of code is doing. Hint: Look at the document string of each function interactively by putting your cursor inside of the parentheses and holding shift and pressing tab; Look in your assigned Chapter 2 reading; google the function name; and try to infer based on the returned output and the name of the function.\n",
    "</div>"
   ]
  },
  {
   "cell_type": "code",
   "execution_count": null,
   "metadata": {},
   "outputs": [],
   "source": [
    "# 1. comment: generate random ints between 1000-50000 to represent contig lengths\n",
    "contig_sizes = np.random.randint(1000, 50000, size=50)\n",
    "contig_sizes"
   ]
  },
  {
   "cell_type": "code",
   "execution_count": null,
   "metadata": {},
   "outputs": [],
   "source": [
    "# 2. comment: sort the ints in the array \n",
    "contig_sizes.sort()\n",
    "contig_sizes"
   ]
  },
  {
   "cell_type": "code",
   "execution_count": null,
   "metadata": {},
   "outputs": [],
   "source": [
    "# 3. comment: reverse the sorted order\n",
    "contig_sizes = contig_sizes[::-1]\n",
    "contig_sizes"
   ]
  },
  {
   "cell_type": "code",
   "execution_count": null,
   "metadata": {},
   "outputs": [],
   "source": [
    "# 4. comment: calculate the total length of all contigs\n",
    "total_len = contig_sizes.sum()\n",
    "total_len"
   ]
  },
  {
   "cell_type": "code",
   "execution_count": null,
   "metadata": {},
   "outputs": [],
   "source": [
    "# 5. comment: get half the total contig length\n",
    "half_total_len = total_len / 2\n",
    "half_total_len"
   ]
  },
  {
   "cell_type": "code",
   "execution_count": null,
   "metadata": {},
   "outputs": [],
   "source": [
    "# 6. comment: create an array of zeros of the length of the number of contigs\n",
    "contig_sum_lens = np.zeros(contig_sizes.size, dtype=int)\n",
    "contig_sum_lens"
   ]
  },
  {
   "cell_type": "code",
   "execution_count": 250,
   "metadata": {},
   "outputs": [
    {
     "data": {
      "text/plain": [
       "array([1231162, 1181930, 1133818, 1087286, 1041273,  995845,  950544,\n",
       "        905331,  860899,  816550,  773146,  730936,  689744,  649924,\n",
       "        614539,  579406,  544563,  510383,  477916,  447132,  416423,\n",
       "        389729,  364178,  338966,  313998,  289842,  266850,  243988,\n",
       "        221985,  200160,  182073,  164613,  147382,  130256,  113580,\n",
       "         97946,   83351,   70549,   58527,   49658,   42035,   34822,\n",
       "         28480,   23074,   17874,   13049,    9154,    5846,    2727,\n",
       "          1329])"
      ]
     },
     "execution_count": 250,
     "metadata": {},
     "output_type": "execute_result"
    }
   ],
   "source": [
    "# 7. comment: iterate over the sorted contigs summing each \n",
    "for i in range(contig_sizes.size):\n",
    "    contig_sum_lens[i] = contig_sizes[i:].sum()\n",
    "contig_sum_lens"
   ]
  },
  {
   "cell_type": "code",
   "execution_count": 251,
   "metadata": {},
   "outputs": [
    {
     "data": {
      "text/plain": [
       "array([ True,  True,  True,  True,  True,  True,  True,  True,  True,\n",
       "        True,  True,  True,  True,  True, False, False, False, False,\n",
       "       False, False, False, False, False, False, False, False, False,\n",
       "       False, False, False, False, False, False, False, False, False,\n",
       "       False, False, False, False, False, False, False, False, False,\n",
       "       False, False, False, False, False])"
      ]
     },
     "execution_count": 251,
     "metadata": {},
     "output_type": "execute_result"
    }
   ],
   "source": [
    "# 8. comment: get boolean for whether sum is greater than half the total\n",
    "which_contigs_longer_than_half = contig_sum_lens > half_total_len\n",
    "which_contigs_longer_than_half"
   ]
  },
  {
   "cell_type": "code",
   "execution_count": 254,
   "metadata": {},
   "outputs": [
    {
     "data": {
      "text/plain": [
       "array([49232, 48112, 46532, 46013, 45428, 45301, 45213, 44432, 44349,\n",
       "       43404, 42210, 41192, 39820, 35385])"
      ]
     },
     "execution_count": 254,
     "metadata": {},
     "output_type": "execute_result"
    }
   ],
   "source": [
    "# 9. comment: get the value of the True values (greater than half)\n",
    "contigs_longer_than_half = contig_sizes[which_contigs_longer_than_half]\n",
    "contigs_longer_than_half"
   ]
  },
  {
   "cell_type": "code",
   "execution_count": 256,
   "metadata": {},
   "outputs": [
    {
     "data": {
      "text/plain": [
       "35385"
      ]
     },
     "execution_count": 256,
     "metadata": {},
     "output_type": "execute_result"
    }
   ],
   "source": [
    "# 10. comment: get the contig length of the smallest contig with summed len < half total\n",
    "n50 = contigs_longer_than_half.min()\n",
    "n50"
   ]
  },
  {
   "cell_type": "markdown",
   "metadata": {},
   "source": [
    "<div class=\"alert alert-success\">\n",
    "    <b>Question [11]:</b> \n",
    "Summarize in Markdown below how the ten lines of code above accomplish the task of computing N50 starting with a list of contig lengths. \n",
    "</div>"
   ]
  },
  {
   "cell_type": "markdown",
   "metadata": {},
   "source": [
    "The code above uses numpy arrays to generate a random list of contig lengths and then to compute the N50 of those lengths. It does this by calculting half the sum of the total lengths as the target value. Then it sums ordered runs of contig lengths using slicing and finds which contig length is the first to have an ordered sum that is greater than half the total contig lengths.  "
   ]
  },
  {
   "cell_type": "markdown",
   "metadata": {},
   "source": [
    "<div class=\"alert alert-success\">\n",
    "    <b>Action [12]:</b> \n",
    "Bonus challenge: combine th lines of code above together into a function that takes the list of contig lengths as an input argument and returns the N50 statistic. Test your function to see if it works. If you get stuck on this do not worry.  \n",
    "</div>"
   ]
  },
  {
   "cell_type": "code",
   "execution_count": 278,
   "metadata": {},
   "outputs": [],
   "source": [
    "# I wrote this answer to sum from the beginning rather than the end as before;\n",
    "# summing from either end works equally, you can define N50 either way since \n",
    "# it only depends on *where* the sum equals half.\n",
    "\n",
    "def calculate_N50(contig_sizes):\n",
    "    \n",
    "    # sort contigs\n",
    "    contig_sizes.sort()\n",
    "    contig_sizes = contig_sizes[::-1]\n",
    "    \n",
    "    # get target length\n",
    "    half_total_len = contig_sizes.sum() / 2\n",
    "    \n",
    "    # fill array with running sums (increasing)\n",
    "    contig_sum_lens = np.zeros(contig_sizes.size, dtype=int)\n",
    "    for i in range(contig_sizes.size):\n",
    "        contig_sum_lens[i] = contig_sizes[:i+1].sum()\n",
    "        \n",
    "    # get boolean for whether sum is greater than half the total\n",
    "    which_contigs_longer_than_half = contig_sum_lens > half_total_len\n",
    "\n",
    "    # index contig with that len\n",
    "    n50 = contig_sizes[which_contigs_longer_than_half].max()\n",
    "    \n",
    "    return n50"
   ]
  },
  {
   "cell_type": "code",
   "execution_count": 279,
   "metadata": {},
   "outputs": [
    {
     "data": {
      "text/plain": [
       "35385"
      ]
     },
     "execution_count": 279,
     "metadata": {},
     "output_type": "execute_result"
    }
   ],
   "source": [
    "calculate_N50(contig_sizes)"
   ]
  },
  {
   "cell_type": "markdown",
   "metadata": {},
   "source": [
    "<div class=\"alert alert-success\">\n",
    "    <b>Action:</b> \n",
    "Save and Download this notebook as HTML to upload to courseworks.\n",
    "</div>"
   ]
  }
 ],
 "metadata": {
  "kernelspec": {
   "display_name": "Python 3",
   "language": "python",
   "name": "python3"
  },
  "language_info": {
   "codemirror_mode": {
    "name": "ipython",
    "version": 3
   },
   "file_extension": ".py",
   "mimetype": "text/x-python",
   "name": "python",
   "nbconvert_exporter": "python",
   "pygments_lexer": "ipython3",
   "version": "3.6.7"
  }
 },
 "nbformat": 4,
 "nbformat_minor": 2
}
