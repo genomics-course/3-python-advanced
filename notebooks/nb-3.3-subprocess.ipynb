{
 "cells": [
  {
   "cell_type": "markdown",
   "metadata": {},
   "source": [
    "## Notebook 3.3: docstrings and subprocess\n",
    "\n",
    "\n",
    "### Learning objectives:\n",
    "- Learn to search function docstrings and code in interactive python.\n",
    "- Learn how docstrings appear in your code.\n",
    "- Learn to use the subprocess module.\n",
    "\n",
    "\n",
    "### Subprocess\n",
    "The `subprocess` module from the Python standard library is a powerful tool for writing Python pipeline programs -- software that acts as glue to stick together inputs and outputs of many other programs into a single program. This is a common use for Python, where its readability and ease-of-use makes it well suited for the \"glue\" role. The programs being glued together are often much faster software tools, optimized for speed much more than Python, such as those written in C or Fortran. As an example, here we will use `subprocess` to call a number of shell programs (those you would run in your bash terminal). This is only one example. You could use `subprocess` to call any binary executable program, or even to call the execution of scripts in other programming languages, like R or Java. "
   ]
  },
  {
   "cell_type": "markdown",
   "metadata": {},
   "source": [
    "### Python documentation\n",
    "Let's start by importing the module below. Because `subprocess` is part of the standard library it comes installed by default with Python.\n",
    "\n"
   ]
  },
  {
   "cell_type": "code",
   "execution_count": null,
   "metadata": {},
   "outputs": [],
   "source": [
    "import subprocess"
   ]
  },
  {
   "cell_type": "markdown",
   "metadata": {},
   "source": [
    "Now that you have imported the subprocess module, what can we do with it? And where can we learn what to do with it? As with all modules in the standard library, `subprocess` is well documented with many examples online. The first place to look should be the [official Python docs](https://docs.python.org/3/library/subprocess.html). This is useful, but sometimes it dives a bit too deep into technical details. So if you want instead just a simple tutorial with examples, the best practice is to google something like \"Python subprocess example\". This will surely bring up many hits. Finally, it's worth noting that like any language Python evolves over time. The `subprocess` module is a good example. There are several functions in it that are available only in Python3 but not Python2. This is something to be aware of if you are writing code for a very general audience, which may be stuck on very outdated versions of Python. Fortunately, for scientific programming we can assume that our users *should* be able to install up-to-date versions of Python."
   ]
  },
  {
   "cell_type": "markdown",
   "metadata": {},
   "source": [
    "### Jupyter uses `subprocess` under-the-hood for bash-magic\n",
    "You have actually used `subprocess` already, you just weren't aware of it. In a previous assignment we used \"bash-magic\" to call bash code from jupyter. The two code cells below provide examples of this. In the first, we use the `%%bash` header to tell the entire cell to execute as bash code. In the latter we can execute a single line as bash code using an exclamation mark. Pretty cool and easy to use. So why do we even need to learn `subprocess` for calling bash code if it is so easy? The answer is that the bash-magic commands are specific to jupyter (interactive Python) but we will often want to write Python code that can execute bash commands even from normal Python scripts. Moreover, it turns out the the bash-magic's themselves are simply using `subprocess` under the hood. So to understand how these work, we should understand how `subprocess` works. "
   ]
  },
  {
   "cell_type": "code",
   "execution_count": null,
   "metadata": {},
   "outputs": [],
   "source": [
    "%%bash\n",
    "# run a bash cell in jupyter\n",
    "echo \"hello world\""
   ]
  },
  {
   "cell_type": "code",
   "execution_count": null,
   "metadata": {},
   "outputs": [],
   "source": [
    "# a bash one-liner in jupyter\n",
    "! pwd"
   ]
  },
  {
   "cell_type": "markdown",
   "metadata": {},
   "source": [
    "### Subprocess functions\n",
    "There are several objects accessible from the `subprocess` module. The core object is the `Popen` class. This object takes a number of arguments, including the bash command that you wish to execute, as well as what you want it to do with the input and output of the program. If you are using an older version of Python (e.g., <3.5) then you are stuck using this class. However, for all newer versions of Python there is a convenient wrapper around this class called `subprocess.run()` that is easier to use. Because we will be learning and writing modern Python code, we will focus on this function. It's worth noting its connection to `Popen`, however, since you will likely find many examples online that use this alternative approach.\n",
    "\n",
    "Before we proceed with any of that, let's revisit docstrings, and how you can use them to learn more about a new module when trying to learn it."
   ]
  },
  {
   "cell_type": "markdown",
   "metadata": {},
   "source": [
    "### Docstrings\n",
    "Documentation strings are simply a string object that is written within the `def` call that defines a function, and serves as a special place for putting instructions on how to use the function. Below is a very simple function that returns the sum of two numbers. We could write a very simple docstring for this, but for this example I wrote a longer more verbose one, just to demonstrate. A good docstring will describe not only what the function does, but also its inputs and outputs and their object type."
   ]
  },
  {
   "cell_type": "code",
   "execution_count": null,
   "metadata": {},
   "outputs": [],
   "source": [
    "def example_function(x, y):\n",
    "    \"\"\"\n",
    "    Example function that takes numeric values for x and y\n",
    "    and returns their sum.\n",
    "    \n",
    "    Parameters:\n",
    "    -----------\n",
    "    x (int, float):\n",
    "        An int or float.\n",
    "    y (int, float):\n",
    "        An int or float.\n",
    "        \n",
    "    Returns:\n",
    "    --------\n",
    "    an integer or float representing the sum of x and y.\n",
    "    \"\"\"\n",
    "    return x + y"
   ]
  },
  {
   "cell_type": "code",
   "execution_count": null,
   "metadata": {},
   "outputs": [],
   "source": [
    "# use the function\n",
    "example_function(10, 10)"
   ]
  },
  {
   "cell_type": "markdown",
   "metadata": {},
   "source": [
    "### Viewing a docstring\n",
    "\n",
    "Let's imagine that there are many functions and we want to be able to easily view the docstring of each one. An example, of course, is the `subprocess` module that we just introduced. Viewing the docstrings of its functions will help us to learn how to use it. So, how can we do this? The first way is to look at the online documentation, but of course that is slow. A faster way is to access the docstrings right here within our interactive coding session. This can be done in two ways. First by using the `?` character, and second by using tab-completion. \n",
    "\n",
    "1. Execute the code cell below where we write the function name followed by the `?` character. The functions docstring will be shown.\n",
    "\n",
    "2. In the next cell is an example for tab-completion. Here we write the function name followed by parentheses, showing that it is a function. If you place your cursor inside of the parentheses and hold the shift key, and press tab, then a docstring will pop up interactively. \n",
    "\n",
    "Both of these methods are quick ways to view the documentation for **any** python object. "
   ]
  },
  {
   "cell_type": "code",
   "execution_count": null,
   "metadata": {},
   "outputs": [],
   "source": [
    "# execute this cell to see the docs\n",
    "example_function?"
   ]
  },
  {
   "cell_type": "code",
   "execution_count": null,
   "metadata": {},
   "outputs": [],
   "source": [
    "# put cursor inside of parentheses and press shift+tab twice\n",
    "example_function(2, 3)"
   ]
  },
  {
   "cell_type": "markdown",
   "metadata": {},
   "source": [
    "### Beyond docstrings\n",
    "Another useful trick that can sometimes be even more informative than a docstring is to look at the raw code for a function itself. This can also be done interactively from Python. In the code cell below we simply put `??` after the function and its source code will popup in the interactive window. \n",
    "\n"
   ]
  },
  {
   "cell_type": "code",
   "execution_count": null,
   "metadata": {},
   "outputs": [],
   "source": [
    "# execute to see docstring AND source code\n",
    "example_function??"
   ]
  },
  {
   "cell_type": "markdown",
   "metadata": {},
   "source": [
    "### Back to learning subprocess\n",
    "OK, so we want to learn the `subprocess` module, let's start by looking at the module level docstring."
   ]
  },
  {
   "cell_type": "code",
   "execution_count": null,
   "metadata": {},
   "outputs": [],
   "source": [
    "subprocess?"
   ]
  },
  {
   "cell_type": "markdown",
   "metadata": {},
   "source": [
    "This lists the the `.run()` function as the recommended tool. We could then look at its docstring as well. But, let's start with an example below, using `subprocess` to call the simple bash program `pwd`, which in a terminal would print your working directory to the output (stdout). Here we can see two results, the program prints the result to stdout (i.e., the path str shown in the cell output) and it returns an object (the CompletedProcess object listed in the cell returned value)."
   ]
  },
  {
   "cell_type": "code",
   "execution_count": null,
   "metadata": {},
   "outputs": [],
   "source": [
    "# returns a CompletedProcess object\n",
    "subprocess.run(\"pwd\")"
   ]
  },
  {
   "cell_type": "markdown",
   "metadata": {},
   "source": [
    "### Custom Class objects\n",
    "OK, so what happened? The program returned an object as a result that is called a `CompletedProcess` object. So what does that mean? The `CompletedProcess` object is a custom Class object in Python. This is an object, just like an Integer or a List, that contains attributes and functions that are connected to the object itself.\n",
    "\n",
    "The `CompletedProcess` object's repr (the thing it shows us when it is returned) shows us two things, the args and returncode. If we look in the subprocess full documentation we can see that the `returncode` is the \"Exit status of the child process. Typically, an exit status of 0 indicates that it ran successfully\". So we know that the function worked. That's good. But in many cases we want to actually capture the result of the program that was run (i.e., the path str that was printed to stdout). Can we access this string from the CompletedProcess object?  Let's go look at the docstring for the `subprocess.run` function in particular:"
   ]
  },
  {
   "cell_type": "code",
   "execution_count": null,
   "metadata": {},
   "outputs": [],
   "source": [
    "subprocess.run?"
   ]
  },
  {
   "cell_type": "markdown",
   "metadata": {},
   "source": [
    "### Accessing attributes of classes\n",
    "OK, so the docstring is telling us that this function will return a CompletedProcess object, but that it does not store the stdout by default, if we wish to capture this we need to use an argument such as `capture_output=True`. Let's try that next with and without this argument:"
   ]
  },
  {
   "cell_type": "code",
   "execution_count": null,
   "metadata": {},
   "outputs": [],
   "source": [
    "# returns a CompletedProcess object\n",
    "proc = subprocess.run(\"pwd\")\n",
    "\n",
    "# access results from the object\n",
    "print(\"captured output:\", proc.stdout)"
   ]
  },
  {
   "cell_type": "markdown",
   "metadata": {},
   "source": [
    "In this first case above the result of the function call is printed directly to the stdout of the jupyter cell instead of being captured by the CompletedProcess object. Thus, we are unable to access the result as a string object other than to look at it in the cell output. By contrast, below we set the capture_output argument to True and see that no string is printed to the cell's output, and instead, the result of the function call is captured as a byte string to the CompletedProcess object (here named proc). We can access this result from the `.stdout` attribute of the proc object. Here it is accessed and printed."
   ]
  },
  {
   "cell_type": "code",
   "execution_count": null,
   "metadata": {},
   "outputs": [],
   "source": [
    "# returns a CompletedProcess object\n",
    "proc = subprocess.run(\"pwd\", capture_output=True)\n",
    "\n",
    "# access results from the object\n",
    "print(\"captured output:\", proc.stdout)"
   ]
  },
  {
   "cell_type": "markdown",
   "metadata": {},
   "source": [
    "### Entering more complex commands to subprocess\n",
    "When using `subprocess`, especially to design a program that others may use, it is important to be aware of the potential power of this tool. It has the ability to run bash commands. Thus, you must be careful about which arguments you allow users to input that it might eventually run. For example, you could imagine that if you allowed a user to input the name of the command to run in subprocess, that they could enter a command telling it to delete all files on your filesystem. Real hacker stuff! \n",
    "\n",
    "By default, `subprocess` tries to prevent this by not allowing you to enter just any command string, but instead requiring a more complex input style. This is enforced by requring that you split input strings into a list of strings, which also makes it easier to check that no malicious code is present. That's a long-winded way of saying that when the command you want to run in subprocess includes multiple arguments, they must be entered as a list, like in the example below. In this example we use the program `curl` to download contents from a URL and print it to stdout. This will download the contents of a CSV file with measurements for many flowers.\n",
    "\n",
    "The Python code below is equivalent to the bash command:\n",
    "`curl https://eaton-lab.org/data/iris-data-dirty.csv`"
   ]
  },
  {
   "cell_type": "code",
   "execution_count": null,
   "metadata": {},
   "outputs": [],
   "source": [
    "cmd = [\"curl\", \"https://eaton-lab.org/data/iris-data-dirty.csv\"]\n",
    "proc = subprocess.run(cmd, capture_output=True)\n",
    "print(proc.stdout)"
   ]
  },
  {
   "cell_type": "markdown",
   "metadata": {},
   "source": [
    "### Parsing the output\n",
    "The result returned by `subprocess` to stdout will always be a type of string representation of what was printed by the program. By default, it is a byte string (b\"\"). Remember we learned about this briefly in the introduction to strings. A byte string starts with a 'b' and can represent a broader variety of characters than strings. To convert bytes to strings you simply need to call `.decode()` on the bytes object. Below we do this and then call several additional string functions to parse the output from above into a list.\n",
    "\n"
   ]
  },
  {
   "cell_type": "code",
   "execution_count": null,
   "metadata": {},
   "outputs": [],
   "source": [
    "# parse string output: \n",
    "#  - decode: converts bytes to str\n",
    "#  - strip: remove whitespace or newlines from ends of string\n",
    "#  - split(\"\\n\"): split string on newlines to make into a list\n",
    "plist = proc.stdout.decode().strip().split(\"\\n\")\n",
    "\n",
    "# print the first 10 items in plist\n",
    "print(plist[:10])"
   ]
  },
  {
   "cell_type": "code",
   "execution_count": null,
   "metadata": {},
   "outputs": [],
   "source": [
    "# parse the string items in the list into a list of strings\n",
    "slist = [i.split(\",\") for i in plist]\n",
    "print(slist[:10])"
   ]
  },
  {
   "cell_type": "markdown",
   "metadata": {},
   "source": [
    "### Putting it all together into a function\n",
    "In the code blocks above we have several statements that together led to our final result, a list of lists that contains the data from the file. (For now we will ignore that there are other cleaner ways to load CSV formatted data files). Let's now combine these statements together into a function that can load any CSV file from a URL. I will also add an additional argument called `nlines` to only return the first N lines of the CSV file."
   ]
  },
  {
   "cell_type": "code",
   "execution_count": null,
   "metadata": {},
   "outputs": [],
   "source": [
    "def csv_from_url(url, nlines=None):\n",
    "    \"\"\"\n",
    "    Gets contents of multi-line CSV from URL and parses to a list.\n",
    "    \n",
    "    Parameters\n",
    "    ----------\n",
    "    url (str):\n",
    "        A string of a URL address pointint to a CSV file.\n",
    "    nlines (int, None):\n",
    "        If an integer then it subselects the number of lines to return. \n",
    "    \"\"\"\n",
    "    # the command to download file contents\n",
    "    cmd = [\"curl\", url]\n",
    "    \n",
    "    # call command \n",
    "    proc = subprocess.run(cmd, capture_output=True)\n",
    "    \n",
    "    # parse stdout bytestring to a list of strings\n",
    "    plist = proc.stdout.decode().strip().split(\"\\n\")\n",
    "    \n",
    "    # parse to a list of lists of strings\n",
    "    slist = [i.split(\",\") for i in plist]\n",
    "    \n",
    "    # subselect lines\n",
    "    if slist is not None:\n",
    "        slist = slist[:nlines]\n",
    "    return slist"
   ]
  },
  {
   "cell_type": "markdown",
   "metadata": {},
   "source": [
    "Test the function:"
   ]
  },
  {
   "cell_type": "code",
   "execution_count": null,
   "metadata": {},
   "outputs": [],
   "source": [
    "csv_from_url(\"https://eaton-lab.org/data/iris-data-dirty.csv\", 10)"
   ]
  },
  {
   "cell_type": "markdown",
   "metadata": {},
   "source": [
    "### A more complex example\n",
    "\n",
    "Subprocess can be further extended by using PIPES to direct the output from one program call directly into the input of another program. This requires a particular syntax in subprocess. Here will do the following command to count the number of lines in the file that contain missing data ('NA'). The key to piping data from one subprocess to another is to use the object `subprocess.PIPE`. Here we designate the stdout of the first subprocess to be PIPE, which we then enter as the input to the next subprocess call. The result uses curl to download data in the first call, and grep to count the number of lines containing the string \"NA\" in the second call. We capture the final output as a string containing the result: 2.\n",
    "\n",
    "`curl -s URL | grep -c NA`"
   ]
  },
  {
   "cell_type": "code",
   "execution_count": null,
   "metadata": {},
   "outputs": [],
   "source": [
    "# the two separate commands to get data and count lines containing a matching str\n",
    "cmd1 = [\"curl\", \"-s\", \"https://eaton-lab.org/data/iris-data-dirty.csv\"]\n",
    "cmd2 = [\"grep\", \"-c\", \"NA\"]\n",
    "\n",
    "# tell proc1 to store stdout to PIPE\n",
    "proc1 = subprocess.run(cmd1, stdout=subprocess.PIPE)\n",
    "\n",
    "# tell proc2 to read proc1.stdout as input, and store stdout to PIPE\n",
    "proc2 = subprocess.run(cmd2, input=proc1.stdout, stdout=subprocess.PIPE)\n",
    "\n",
    "# access the stdout of proc2 (number of lines containing 'NA')\n",
    "print(proc2.stdout.decode())"
   ]
  },
  {
   "cell_type": "markdown",
   "metadata": {},
   "source": [
    "### Checking for errors\n",
    "As we learned earlier, the `CompletedProcess` object that is returned by `subprocess.run` contains an attribute called `returncode` that tells us whether the job was successful or not. If it fails, then the returncode will be a 1 rather than a 0. There are two ways in which we could use this information, depending on how we want our code to run. You could imagine that there might be a scenario where we want to allow the code to fail sometimes, and then perhaps we want to process the result differently based on the value of the returncode. But more often we probably want the `subprocess.run` command to succeed, and if it fails we would like to know, for example by having it raise an exception (stops the code from proceeding and describes the error). It turns out `subprocess.run` has a builtin option to do this, called `check=True`. \n",
    "\n",
    "Beware, however, that while *most* programs will return a 1 when an error arises, not all programs do this by default. For example, the `curl` program will fail silently if a URL does not exist, *unless* you add the additional argument `--fail` (I only learned this while creating this exercise). \n",
    "\n",
    "This example is expected to fail since the URL is invalid and curl was told to raise an exception if the address fails. "
   ]
  },
  {
   "cell_type": "code",
   "execution_count": null,
   "metadata": {
    "scrolled": true
   },
   "outputs": [],
   "source": [
    "# a curl command with a valid URL \n",
    "cmd1 = [\"curl\", \"https://eaton-lab.org/data/iris-data-dirty.csv\", \"--fail\"]\n",
    "\n",
    "# run command works fine\n",
    "proc1 = subprocess.run(cmd1, capture_output=True, check=True)"
   ]
  },
  {
   "cell_type": "code",
   "execution_count": null,
   "metadata": {},
   "outputs": [],
   "source": [
    "# a curl command with an INVALID URL \n",
    "cmd2 = [\"curl\", \"https://eaton-lab.org/data/non-existent-url.csv\", \"--fail\"]\n",
    "\n",
    "# run command raises an exception\n",
    "proc2 = subprocess.run(cmd2, capture_output=True, check=True)"
   ]
  },
  {
   "cell_type": "markdown",
   "metadata": {},
   "source": [
    "### Assessment\n",
    "\n",
    "<div class=\"alert alert-success\">\n",
    "    Follow the instructions below. \n",
    "</div>"
   ]
  },
  {
   "cell_type": "markdown",
   "metadata": {},
   "source": [
    "### Challenge 1:\n",
    "Write a function that uses `subprocess` to call the following bash command using three `subprocess.run()` calls with pipes. Before writing this in Python, try first running the bash command in a cell with a %%bash header to see what it does. Make sure you understand what each part of the command is doing. Then try to complete this task using subprocess in Python. The first program called in this command is `conda list` which will list all of your currently installed Python packages. The next two commands you have seen before, where cut and grep are used to manipulate text. Putting these functions together, this line of code will find and list all of the installed Python packages that have 'py' in their name.\n",
    "\n",
    "`conda list | cut -d ' ' -f 1 | grep 'py'`\n",
    "\n",
    "What we are looking for in your answer:\n",
    "1. You wrote a working function and tested it afterwards.\n",
    "2. It uses `subprocess.PIPE`.\n",
    "3. It uses three `subprocess.run()` calls.\n",
    "4. It converts the result from a bytestring to a list of str objects.\n",
    "5. The function uses `return` to return the list (i.e., does not simply `print` it)."
   ]
  },
  {
   "cell_type": "code",
   "execution_count": null,
   "metadata": {},
   "outputs": [],
   "source": []
  }
 ],
 "metadata": {
  "kernelspec": {
   "display_name": "Python 3 (ipykernel)",
   "language": "python",
   "name": "python3"
  },
  "language_info": {
   "codemirror_mode": {
    "name": "ipython",
    "version": 3
   },
   "file_extension": ".py",
   "mimetype": "text/x-python",
   "name": "python",
   "nbconvert_exporter": "python",
   "pygments_lexer": "ipython3",
   "version": "3.10.12"
  }
 },
 "nbformat": 4,
 "nbformat_minor": 4
}
