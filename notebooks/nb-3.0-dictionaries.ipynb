{
 "cells": [
  {
   "cell_type": "markdown",
   "metadata": {},
   "source": [
    "# Notebook 3.0: Python dictionaries"
   ]
  },
  {
   "cell_type": "markdown",
   "metadata": {},
   "source": [
    "## Learning objectives: \n",
    "\n",
    "By the end of this notebook you should be able to:\n",
    "\n",
    "1. Recognize the use cases for Python dictionaries.\n",
    "2. Be able to create and use Python dictionaries."
   ]
  },
  {
   "cell_type": "markdown",
   "metadata": {},
   "source": [
    "## Introduction to Python dictionaries\n",
    "\n",
    "Dictionaries are one of the most useful objects in Python. They provide a mapping between (`key`, `value`) pairs, and represent a fast and efficient way of creating look-up tables. A simple example use for a dictionary would be something like mapping names to phone numbers or addresses. In genomics, we might map sample names to DNA sequences. Using the dictionary we could then query a `key` (e.g., a person's name) and it will return the `value` associated with that key (e.g., an address). \n",
    "\n",
    "Dictionaries are very fast and flexible for storing different types of data, and of various sizes. Once you master dictionaries you'll find yourself using them all the time. "
   ]
  },
  {
   "cell_type": "markdown",
   "metadata": {},
   "source": [
    "### A simple example\n",
    "\n",
    "You can create a dictionary object by using either the `dict()` function, or by enclosing dictionary data inside of curly brackets. Both examples are shown below. The second form is more commonly used so I will use that in all following examples. In the curly bracket format `keys` are matched with `values` by a colon, and `key/value` pairs are separated by commas. "
   ]
  },
  {
   "cell_type": "code",
   "execution_count": 76,
   "metadata": {},
   "outputs": [],
   "source": [
    "# make a dict from a list of key,val pairs\n",
    "d1 = dict([('key1', 'val1'), ('key2', 'val2')])\n",
    "\n",
    "# make a dict using the simpler curly bracket format\n",
    "d2 = {'key1': 'val1', 'key2': 'val2'}"
   ]
  },
  {
   "cell_type": "code",
   "execution_count": 77,
   "metadata": {},
   "outputs": [
    {
     "data": {
      "text/plain": [
       "{'key1': 'val1', 'key2': 'val2'}"
      ]
     },
     "execution_count": 77,
     "metadata": {},
     "output_type": "execute_result"
    }
   ],
   "source": [
    "# return the dictionary\n",
    "d2"
   ]
  },
  {
   "cell_type": "markdown",
   "metadata": {},
   "source": [
    "### Query a dictionary value\n",
    "To query a dictionary you provide a `key` to the dictionary as an index (in square brackets), and it will return the matching `value`. "
   ]
  },
  {
   "cell_type": "code",
   "execution_count": 79,
   "metadata": {},
   "outputs": [
    {
     "data": {
      "text/plain": [
       "'val1'"
      ]
     },
     "execution_count": 79,
     "metadata": {},
     "output_type": "execute_result"
    }
   ],
   "source": [
    "d2['key1']"
   ]
  },
  {
   "cell_type": "markdown",
   "metadata": {},
   "source": [
    "### Common use case\n",
    "A common way to work with dictionaries is to start with an empty dictionary at the beginning of an iteration (e.g., a for-loop) and to fill elements of the dictionary as you iterate over elements of the list. Dictionaries are useful for this because you can quickly query whether an element that you visit in the iteration is already in the dictionary or not. Let's consider an example where we use a dictionary as a counter. We'll store names as keys, and integers as values. \n",
    "\n",
    "In the example below we iterate over a list of random numbers and then apply a conditional if/else statement to either create a new key value pair in the dictionary, or to increment the value if the key is already in the dictionary. "
   ]
  },
  {
   "cell_type": "code",
   "execution_count": 80,
   "metadata": {},
   "outputs": [],
   "source": [
    "import random\n",
    "\n",
    "integer_list = [random.randint(0, 10) for i in range(1000)]\n",
    "\n",
    "counter = {}\n",
    "\n",
    "for item in integer_list:\n",
    "    \n",
    "    if item not in counter:\n",
    "        counter[item] = 1\n",
    "    \n",
    "    else:\n",
    "        counter[item] += 1"
   ]
  },
  {
   "cell_type": "markdown",
   "metadata": {},
   "source": [
    "### The resulting `counter` dictionary\n",
    "The code above filled a dictionary with keys 1-10 and each is associated with a value representing the number of times that key was observed in the randomly generated `integer_list`. In other words, we created a histogram. Below we can return the dictionary and see that is shows a number of keys and their mapped values. The results are not sorted and/or super easy to read. In the next cell, we can instead query the keys in the order we wish to see them in order to display the results more clearly and ordered. "
   ]
  },
  {
   "cell_type": "code",
   "execution_count": 82,
   "metadata": {},
   "outputs": [
    {
     "data": {
      "text/plain": [
       "{8: 89,\n",
       " 0: 80,\n",
       " 7: 91,\n",
       " 1: 104,\n",
       " 5: 92,\n",
       " 10: 94,\n",
       " 9: 79,\n",
       " 4: 97,\n",
       " 2: 80,\n",
       " 3: 104,\n",
       " 6: 90}"
      ]
     },
     "execution_count": 82,
     "metadata": {},
     "output_type": "execute_result"
    }
   ],
   "source": [
    "# return the dictionary results\n",
    "counter"
   ]
  },
  {
   "cell_type": "code",
   "execution_count": 83,
   "metadata": {},
   "outputs": [
    {
     "name": "stdout",
     "output_type": "stream",
     "text": [
      "0 80\n",
      "1 104\n",
      "2 80\n",
      "3 104\n",
      "4 97\n",
      "5 92\n",
      "6 90\n",
      "7 91\n",
      "8 89\n",
      "9 79\n"
     ]
    }
   ],
   "source": [
    "# return dictionary results in a queried order\n",
    "\n",
    "# iterate over the keys which we know are 1-10\n",
    "for i in range(10):\n",
    "    \n",
    "    # print the key and value\n",
    "    print(i, counter[i])"
   ]
  },
  {
   "cell_type": "code",
   "execution_count": 84,
   "metadata": {},
   "outputs": [
    {
     "name": "stdout",
     "output_type": "stream",
     "text": [
      "0 80\n",
      "1 104\n",
      "2 80\n",
      "3 104\n",
      "4 97\n",
      "5 92\n",
      "6 90\n",
      "7 91\n",
      "8 89\n",
      "9 79\n",
      "10 94\n"
     ]
    }
   ],
   "source": [
    "# another way to do the same thing\n",
    "\n",
    "# iterate over the keys which we know are 1-10\n",
    "for key in sorted(counter.keys()):\n",
    "    \n",
    "    # print the key and value\n",
    "    print(key, counter[key])"
   ]
  },
  {
   "cell_type": "markdown",
   "metadata": {},
   "source": [
    "### Interpreting code"
   ]
  },
  {
   "cell_type": "markdown",
   "metadata": {},
   "source": [
    "<div class=\"alert alert-success\">\n",
    "    <b>Action [1]:</b> \n",
    "        In a code cell below describe what is happening on each line of the code by writing a comment above each line of code where I have written \"# comment:\". If you get stuck, try asking for help in the chatroom.  \n",
    "</div>"
   ]
  },
  {
   "cell_type": "code",
   "execution_count": 85,
   "metadata": {},
   "outputs": [],
   "source": [
    "# comment: import the random library\n",
    "import random\n",
    "\n",
    "# comment: create ea list with 1000 random numbers between 0-10\n",
    "integer_list = [random.randint(0, 10) for i in range(1000)]\n",
    "\n",
    "# comment: create an empty dictionary\n",
    "counter = {}\n",
    "\n",
    "# comment: iterate over elements of the integer list\n",
    "for item in integer_list:\n",
    "    \n",
    "    # comment: conditional True if item is not already in the dict keys\n",
    "    if item not in counter:\n",
    "        # comment: set the value to 1 for this key\n",
    "        counter[item] = 1\n",
    "    \n",
    "    # comment: item is already in dict keys \n",
    "    else:\n",
    "        # comment: increment value by 1 for this key\n",
    "        counter[item] += 1"
   ]
  },
  {
   "cell_type": "markdown",
   "metadata": {},
   "source": [
    "## Dictionary attributes/features\n",
    "\n",
    "Like other objects in Python dictionaries have a number of functions and attributes associated with them that you can access by placing a dot after the dictionary name, and typing [tab]. Let's create an example below of a dictionary that stores a list of lists as values. Below we explain the `.keys()`, `.items()`, and `.values()` functions of dictionaries which can be used to return its data. "
   ]
  },
  {
   "cell_type": "code",
   "execution_count": 87,
   "metadata": {},
   "outputs": [],
   "source": [
    "# lists of names and data\n",
    "individuals = ['sample-1', 'sample-2', 'sample-3', 'sample-4']\n",
    "trait1 = [56, 76, 22, 21]\n",
    "trait2 = ['green', 'green', 'red', 'red']\n",
    "trait3 = ['angry', 'docile', 'angry', 'docile']\n",
    "\n",
    "# create a dictionary mapping multiple traits to each species\n",
    "datadict = {}\n",
    "for i in range(4):\n",
    "    datadict[individuals[i]] = [trait1[i], trait2[i], trait3[i]]"
   ]
  },
  {
   "cell_type": "code",
   "execution_count": 88,
   "metadata": {},
   "outputs": [
    {
     "data": {
      "text/plain": [
       "{'sample-1': [56, 'green', 'angry'],\n",
       " 'sample-2': [76, 'green', 'docile'],\n",
       " 'sample-3': [22, 'red', 'angry'],\n",
       " 'sample-4': [21, 'red', 'docile']}"
      ]
     },
     "execution_count": 88,
     "metadata": {},
     "output_type": "execute_result"
    }
   ],
   "source": [
    "## show the dictionary data\n",
    "datadict"
   ]
  },
  {
   "cell_type": "code",
   "execution_count": 89,
   "metadata": {},
   "outputs": [
    {
     "name": "stdout",
     "output_type": "stream",
     "text": [
      "('sample-1', [56, 'green', 'angry'])\n",
      "('sample-2', [76, 'green', 'docile'])\n",
      "('sample-3', [22, 'red', 'angry'])\n",
      "('sample-4', [21, 'red', 'docile'])\n"
     ]
    }
   ],
   "source": [
    "## .items() returns key,val pairs as tuples\n",
    "for item in datadict.items():\n",
    "    print(item)"
   ]
  },
  {
   "cell_type": "code",
   "execution_count": 90,
   "metadata": {},
   "outputs": [
    {
     "name": "stdout",
     "output_type": "stream",
     "text": [
      "sample-1\n",
      "sample-2\n",
      "sample-3\n",
      "sample-4\n"
     ]
    }
   ],
   "source": [
    "## .keys() returns just the keys\n",
    "for key in datadict.keys():\n",
    "    print(key)"
   ]
  },
  {
   "cell_type": "code",
   "execution_count": 91,
   "metadata": {},
   "outputs": [
    {
     "name": "stdout",
     "output_type": "stream",
     "text": [
      "[56, 'green', 'angry']\n",
      "[76, 'green', 'docile']\n",
      "[22, 'red', 'angry']\n",
      "[21, 'red', 'docile']\n"
     ]
    }
   ],
   "source": [
    "## .values returns just the values\n",
    "for val in datadict.values():\n",
    "    print(val)"
   ]
  },
  {
   "cell_type": "markdown",
   "metadata": {},
   "source": [
    "### list comprehension\n",
    "\n",
    "Just as with lists, you can create dictionaries using list comprehension. This is simply a more efficient way to write code sometimes as opposed to writing a for-loop. The format can be thought of as: [`append this thing` as we iterate through `each thing` from a `container of things`]. "
   ]
  },
  {
   "cell_type": "code",
   "execution_count": 92,
   "metadata": {},
   "outputs": [
    {
     "data": {
      "text/plain": [
       "[0, 1, 2, 3, 4, 5, 6, 7, 8, 9]"
      ]
     },
     "execution_count": 92,
     "metadata": {},
     "output_type": "execute_result"
    }
   ],
   "source": [
    "# list-comprehension example for list objects\n",
    "newlist = [i for i in range(10)]\n",
    "newlist"
   ]
  },
  {
   "cell_type": "code",
   "execution_count": 93,
   "metadata": {},
   "outputs": [
    {
     "data": {
      "text/plain": [
       "{'a': 1, 'b': 2, 'c': 3}"
      ]
     },
     "execution_count": 93,
     "metadata": {},
     "output_type": "execute_result"
    }
   ],
   "source": [
    "# list comprehension for a dictionary from a list of lists\n",
    "ddict = {i: j for (i, j) in [['a', 1], ['b', 2], ['c', 3]]}\n",
    "ddict"
   ]
  },
  {
   "cell_type": "code",
   "execution_count": 94,
   "metadata": {},
   "outputs": [
    {
     "data": {
      "text/plain": [
       "{'a': 1, 'b': 2, 'c': 3}"
      ]
     },
     "execution_count": 94,
     "metadata": {},
     "output_type": "execute_result"
    }
   ],
   "source": [
    "# another example using the Python function 'zip'\n",
    "keys = ['a', 'b', 'c']\n",
    "vals = [1, 2, 3]\n",
    "{i: j for (i, j) in zip(keys, vals)}"
   ]
  },
  {
   "cell_type": "markdown",
   "metadata": {},
   "source": [
    "<div class=\"alert alert-success\">\n",
    "    <b>Action [2]:</b> \n",
    "    Using either a for loop or list comprehension create your own dictionary object that is filled with whatever kinds of key/value pairs you can think of. \n",
    "</div>"
   ]
  },
  {
   "cell_type": "code",
   "execution_count": 99,
   "metadata": {},
   "outputs": [
    {
     "data": {
      "text/plain": [
       "{0: 10, 1: 11, 2: 12, 3: 13, 4: 14}"
      ]
     },
     "execution_count": 99,
     "metadata": {},
     "output_type": "execute_result"
    }
   ],
   "source": [
    "# empty dict\n",
    "dd = {}\n",
    "\n",
    "# iterate through numbers for keys\n",
    "for i in range(5):\n",
    "    \n",
    "    # fill values with key + 10 \n",
    "    dd[i] = i + 10\n",
    "    \n",
    "# return the final dict\n",
    "dd"
   ]
  },
  {
   "cell_type": "markdown",
   "metadata": {},
   "source": [
    "<div class=\"alert alert-success\">\n",
    "    Save and download this notebook as HTML to upload to courseworks. \n",
    "</div>"
   ]
  }
 ],
 "metadata": {
  "kernelspec": {
   "display_name": "Python 3",
   "language": "python",
   "name": "python3"
  },
  "language_info": {
   "codemirror_mode": {
    "name": "ipython",
    "version": 3
   },
   "file_extension": ".py",
   "mimetype": "text/x-python",
   "name": "python",
   "nbconvert_exporter": "python",
   "pygments_lexer": "ipython3",
   "version": "3.6.7"
  }
 },
 "nbformat": 4,
 "nbformat_minor": 2
}
