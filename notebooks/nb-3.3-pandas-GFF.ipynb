{
 "cells": [
  {
   "cell_type": "markdown",
   "metadata": {},
   "source": [
    "## Notebook 3.3: Pandas and Gene Ontology\n",
    "\n",
    "This notebook is associated with the following accompanied reading: \n",
    "\n",
    "+ Yandell, Mark, and Daniel Ence. 2012. “A Beginner’s Guide to Eukaryotic Genome Annotation.” Nature Reviews Genetics 13 (5): 329–42. https://doi.org/10.1038/nrg3174.\n",
    "\n",
    "\n",
    "+ The Python Data Science Handbook **Chapter 3** https://jakevdp.github.io/PythonDataScienceHandbook/\n",
    "\n",
    "\n",
    "+ NB: **You do not need to read Chapter 4 this week.**\n"
   ]
  },
  {
   "cell_type": "markdown",
   "metadata": {},
   "source": [
    "## Learning objectives: \n",
    "\n",
    "By the end of this module you should be able to:\n",
    "\n",
    "1. Create and load Pandas DataFrames. \n",
    "2. Index/select elements from a Pandas DataFrame.\n",
    "3. Understand the difference between numpy arrays and pandas dataframes.\n"
   ]
  },
  {
   "cell_type": "markdown",
   "metadata": {},
   "source": [
    "## Introduction to Pandas DataFrames\n",
    "\n",
    "The pandas library is similar to numpy in that it contains a core object type, the `DataFrame`, and a set of functions for computing over axes of this object. Generally, DataFrames are easier to learn and understand than numpy arrays because they have labels, and so it can be easier to keep track of what you're doing, and because you can combine different datatypes (e.g., ints, floats, strings) together in a single DataFrame, whereas in numpy you usually work with just one dtype at a time. \n",
    "\n",
    "One way to think about Pandas DataFrames is that they are essentially a pretty wrapper around one or more numpy arrays, which put labels on the rows and columns, and allow you to index using row and column names instead of just indices. But Pandas does more than that as well, and provides many very useful functions for working with data in a table. \n",
    "\n",
    "For people who have used the R programming language before, and especially those who have primarily used it for statistics, Pandas will feel very familiar, since it creates a similar object to one of the core objects in R for holding table like data. Your reading provides many examples of interesting uses for Pandas. Again, this notebook is primarily meant to test your knowledge after finishing the reading. "
   ]
  },
  {
   "cell_type": "markdown",
   "metadata": {},
   "source": [
    "### Loading pandas\n",
    "Numpy and Pandas are often used together. "
   ]
  },
  {
   "cell_type": "code",
   "execution_count": 1,
   "metadata": {},
   "outputs": [],
   "source": [
    "import pandas as pd\n",
    "import numpy as np"
   ]
  },
  {
   "cell_type": "markdown",
   "metadata": {},
   "source": [
    "### Creating DataFrames\n",
    "You can create a Pandas DataFrame from scratch in a variety of ways. I find that the easiest way is to use a Python dictionary to enter key/value pairs to the `pd.DataFrame()` function. Remember from our earlier notebook that you can create a dictionary using curly brackets. Here we create a DataFrame by providing it a dictionary where the key is a string (this will become the column name) and the value is a numpy array of randomly generated values (this will become the data). Each key/pair in the dictionary is written on a separate line to make it easier to read, but they are all surrounded by a single set of curly brackets, and so interpreted as a single dictionary. It is important that all of the data we enter is of the same length, since this will become the column data of the table. But, as you can see, it is OK that the data in each column is a different datatype, here we combine floats, strings, and ints. Pandas is also nice because it returns the table data in the output cell as a nicely formatted HTML table. Scroll your cursor over the table and you can see that cells light up as you highlight them. It's nice. "
   ]
  },
  {
   "cell_type": "code",
   "execution_count": 2,
   "metadata": {},
   "outputs": [
    {
     "data": {
      "text/html": [
       "<div>\n",
       "<style scoped>\n",
       "    .dataframe tbody tr th:only-of-type {\n",
       "        vertical-align: middle;\n",
       "    }\n",
       "\n",
       "    .dataframe tbody tr th {\n",
       "        vertical-align: top;\n",
       "    }\n",
       "\n",
       "    .dataframe thead th {\n",
       "        text-align: right;\n",
       "    }\n",
       "</style>\n",
       "<table border=\"1\" class=\"dataframe\">\n",
       "  <thead>\n",
       "    <tr style=\"text-align: right;\">\n",
       "      <th></th>\n",
       "      <th>column1</th>\n",
       "      <th>column2</th>\n",
       "      <th>column3</th>\n",
       "    </tr>\n",
       "  </thead>\n",
       "  <tbody>\n",
       "    <tr>\n",
       "      <th>0</th>\n",
       "      <td>1.633686</td>\n",
       "      <td>T</td>\n",
       "      <td>4</td>\n",
       "    </tr>\n",
       "    <tr>\n",
       "      <th>1</th>\n",
       "      <td>0.071054</td>\n",
       "      <td>G</td>\n",
       "      <td>4</td>\n",
       "    </tr>\n",
       "    <tr>\n",
       "      <th>2</th>\n",
       "      <td>-0.201375</td>\n",
       "      <td>T</td>\n",
       "      <td>0</td>\n",
       "    </tr>\n",
       "    <tr>\n",
       "      <th>3</th>\n",
       "      <td>0.461895</td>\n",
       "      <td>A</td>\n",
       "      <td>3</td>\n",
       "    </tr>\n",
       "    <tr>\n",
       "      <th>4</th>\n",
       "      <td>-1.480207</td>\n",
       "      <td>G</td>\n",
       "      <td>2</td>\n",
       "    </tr>\n",
       "    <tr>\n",
       "      <th>5</th>\n",
       "      <td>-0.729692</td>\n",
       "      <td>C</td>\n",
       "      <td>0</td>\n",
       "    </tr>\n",
       "    <tr>\n",
       "      <th>6</th>\n",
       "      <td>-0.143699</td>\n",
       "      <td>A</td>\n",
       "      <td>4</td>\n",
       "    </tr>\n",
       "    <tr>\n",
       "      <th>7</th>\n",
       "      <td>-1.108858</td>\n",
       "      <td>G</td>\n",
       "      <td>2</td>\n",
       "    </tr>\n",
       "    <tr>\n",
       "      <th>8</th>\n",
       "      <td>-1.704039</td>\n",
       "      <td>A</td>\n",
       "      <td>1</td>\n",
       "    </tr>\n",
       "    <tr>\n",
       "      <th>9</th>\n",
       "      <td>-2.760000</td>\n",
       "      <td>A</td>\n",
       "      <td>1</td>\n",
       "    </tr>\n",
       "  </tbody>\n",
       "</table>\n",
       "</div>"
      ],
      "text/plain": [
       "    column1 column2  column3\n",
       "0  1.633686       T        4\n",
       "1  0.071054       G        4\n",
       "2 -0.201375       T        0\n",
       "3  0.461895       A        3\n",
       "4 -1.480207       G        2\n",
       "5 -0.729692       C        0\n",
       "6 -0.143699       A        4\n",
       "7 -1.108858       G        2\n",
       "8 -1.704039       A        1\n",
       "9 -2.760000       A        1"
      ]
     },
     "execution_count": 2,
     "metadata": {},
     "output_type": "execute_result"
    }
   ],
   "source": [
    "# create an array with randomly generated values \n",
    "df = pd.DataFrame({\n",
    "    \"column1\": np.random.normal(0, 1, 10),\n",
    "    \"column2\": np.random.choice(list(\"ACGT\"), 10), \n",
    "    \"column3\": np.random.randint(0, 5, 10),\n",
    "})\n",
    "\n",
    "# return the dataframe\n",
    "df"
   ]
  },
  {
   "cell_type": "markdown",
   "metadata": {},
   "source": [
    "### Indexing DataFrames\n",
    "You can index DataFrames by their column or row names (row names are called the index in pandas), or by using numeric indices like in numpy. "
   ]
  },
  {
   "cell_type": "code",
   "execution_count": 3,
   "metadata": {},
   "outputs": [
    {
     "data": {
      "text/plain": [
       "0    1.633686\n",
       "1    0.071054\n",
       "2   -0.201375\n",
       "3    0.461895\n",
       "4   -1.480207\n",
       "5   -0.729692\n",
       "6   -0.143699\n",
       "7   -1.108858\n",
       "8   -1.704039\n",
       "9   -2.760000\n",
       "Name: column1, dtype: float64"
      ]
     },
     "execution_count": 3,
     "metadata": {},
     "output_type": "execute_result"
    }
   ],
   "source": [
    "# select columns by name in a dictionary-like way\n",
    "df[\"column1\"]"
   ]
  },
  {
   "cell_type": "code",
   "execution_count": 4,
   "metadata": {},
   "outputs": [
    {
     "data": {
      "text/plain": [
       "0    1.633686\n",
       "1    0.071054\n",
       "2   -0.201375\n",
       "3    0.461895\n",
       "4   -1.480207\n",
       "5   -0.729692\n",
       "6   -0.143699\n",
       "7   -1.108858\n",
       "8   -1.704039\n",
       "9   -2.760000\n",
       "Name: column1, dtype: float64"
      ]
     },
     "execution_count": 4,
     "metadata": {},
     "output_type": "execute_result"
    }
   ],
   "source": [
    "# select column by name in a simple object-like way\n",
    "df.column1"
   ]
  },
  {
   "cell_type": "code",
   "execution_count": 5,
   "metadata": {},
   "outputs": [
    {
     "data": {
      "text/plain": [
       "0    1.633686\n",
       "1    0.071054\n",
       "2   -0.201375\n",
       "3    0.461895\n",
       "4   -1.480207\n",
       "5   -0.729692\n",
       "6   -0.143699\n",
       "7   -1.108858\n",
       "8   -1.704039\n",
       "9   -2.760000\n",
       "Name: column1, dtype: float64"
      ]
     },
     "execution_count": 5,
     "metadata": {},
     "output_type": "execute_result"
    }
   ],
   "source": [
    "# select column by name using fancy indexing\n",
    "df.loc[:, \"column1\"]"
   ]
  },
  {
   "cell_type": "code",
   "execution_count": 6,
   "metadata": {},
   "outputs": [
    {
     "data": {
      "text/plain": [
       "0    1.633686\n",
       "1    0.071054\n",
       "2   -0.201375\n",
       "3    0.461895\n",
       "4   -1.480207\n",
       "5   -0.729692\n",
       "6   -0.143699\n",
       "7   -1.108858\n",
       "8   -1.704039\n",
       "9   -2.760000\n",
       "Name: column1, dtype: float64"
      ]
     },
     "execution_count": 6,
     "metadata": {},
     "output_type": "execute_result"
    }
   ],
   "source": [
    "# select column by index using fancy indexing\n",
    "df.iloc[:, 0]"
   ]
  },
  {
   "cell_type": "markdown",
   "metadata": {},
   "source": [
    "### Why so many ways to index?\n",
    "\n",
    "+ The first dictionary-like way is nice since if you're familiar with dictionary objects then you can substitute dataframes in for these objects easily. \n",
    "\n",
    "+ The second object-like mode is fast to type and can be selected using tab-completion, so it's easy to view all the column choices in an object without having to print it; however in this mode you cannot select column names with odd characters in them like spaces since the column name is not wrapped in quotes. \n",
    "\n",
    "+ The third way of indexing, with `.loc[]` can combine selecting by both row and column names into a single call, so this very powerful and is generally the preferred method. \n",
    "\n",
    "+ The final way of indexing with `.iloc[]` is a nice alternative, but if you are using indices instead of row and column names then you're not really taking advantage of pandas that much, and you might be better off using numpy arrays since they're faster. \n"
   ]
  },
  {
   "cell_type": "markdown",
   "metadata": {},
   "source": [
    "### Loading data files\n",
    "Pandas has several functions for loading data from a variety of formats, but the most commonly used ones are `.read_csv()` or `read_table()`. You can provide a number of arguments to each function to tell it details of the file, such as what the delimiter is (e.g., tabs, spaces, commas), whether to skip the first N rows, whether to use the first row and column names, etc. You can use this function to load data files from a file path location on your hard disk, or, if you're connected to the internet, **you can even just provide it a url** of the location of a datafile that is publicly hosted online. \n",
    "\n",
    "We will practice by loading a GFF file, which we have seen before. We can load the yeast genome GFF file directly from the NCBI FTP site where it is hosted. For a quick reminder of the GFF file format [visit here](https://github.com/The-Sequence-Ontology/Specifications/blob/master/gff3.md). We provide the argument `comment=\"#\"` below so it will skip the first few lines of the file that are not data but just comments, and we will enter in the column names by hand because it is easier than trying to parse them from the file in this case. \n",
    "\n",
    "The DataFrame object is saved as the variable `gff`, which we then show the first few lines of with the function of the dataframe object called `.head()`. This should sound familiar. Remember when we were learning bash scripting there was a function called `head` to print the first few lines of a file. Pandas is implementing that same idea as a function of dataframes. We want to just peek at the first few lines to make sure the data were loaded/parsed correctly. "
   ]
  },
  {
   "cell_type": "code",
   "execution_count": 7,
   "metadata": {},
   "outputs": [
    {
     "data": {
      "text/html": [
       "<div>\n",
       "<style scoped>\n",
       "    .dataframe tbody tr th:only-of-type {\n",
       "        vertical-align: middle;\n",
       "    }\n",
       "\n",
       "    .dataframe tbody tr th {\n",
       "        vertical-align: top;\n",
       "    }\n",
       "\n",
       "    .dataframe thead th {\n",
       "        text-align: right;\n",
       "    }\n",
       "</style>\n",
       "<table border=\"1\" class=\"dataframe\">\n",
       "  <thead>\n",
       "    <tr style=\"text-align: right;\">\n",
       "      <th></th>\n",
       "      <th>seqname</th>\n",
       "      <th>source</th>\n",
       "      <th>feature</th>\n",
       "      <th>start</th>\n",
       "      <th>end</th>\n",
       "      <th>score</th>\n",
       "      <th>strand</th>\n",
       "      <th>frame</th>\n",
       "      <th>attribute</th>\n",
       "    </tr>\n",
       "  </thead>\n",
       "  <tbody>\n",
       "    <tr>\n",
       "      <th>0</th>\n",
       "      <td>NC_001133.9</td>\n",
       "      <td>RefSeq</td>\n",
       "      <td>region</td>\n",
       "      <td>1</td>\n",
       "      <td>230218</td>\n",
       "      <td>.</td>\n",
       "      <td>+</td>\n",
       "      <td>.</td>\n",
       "      <td>ID=id0;Dbxref=taxon:559292;Name=I;chromosome=I...</td>\n",
       "    </tr>\n",
       "    <tr>\n",
       "      <th>1</th>\n",
       "      <td>NC_001133.9</td>\n",
       "      <td>RefSeq</td>\n",
       "      <td>telomere</td>\n",
       "      <td>1</td>\n",
       "      <td>801</td>\n",
       "      <td>.</td>\n",
       "      <td>-</td>\n",
       "      <td>.</td>\n",
       "      <td>ID=id1;Dbxref=SGD:S000028862;Note=TEL01L%3B Te...</td>\n",
       "    </tr>\n",
       "    <tr>\n",
       "      <th>2</th>\n",
       "      <td>NC_001133.9</td>\n",
       "      <td>RefSeq</td>\n",
       "      <td>origin_of_replication</td>\n",
       "      <td>707</td>\n",
       "      <td>776</td>\n",
       "      <td>.</td>\n",
       "      <td>+</td>\n",
       "      <td>.</td>\n",
       "      <td>ID=id2;Dbxref=SGD:S000121252;Note=ARS102~Auton...</td>\n",
       "    </tr>\n",
       "    <tr>\n",
       "      <th>3</th>\n",
       "      <td>NC_001133.9</td>\n",
       "      <td>RefSeq</td>\n",
       "      <td>gene</td>\n",
       "      <td>1807</td>\n",
       "      <td>2169</td>\n",
       "      <td>.</td>\n",
       "      <td>-</td>\n",
       "      <td>.</td>\n",
       "      <td>ID=gene0;Dbxref=GeneID:851229;Name=PAU8;end_ra...</td>\n",
       "    </tr>\n",
       "    <tr>\n",
       "      <th>4</th>\n",
       "      <td>NC_001133.9</td>\n",
       "      <td>RefSeq</td>\n",
       "      <td>mRNA</td>\n",
       "      <td>1807</td>\n",
       "      <td>2169</td>\n",
       "      <td>.</td>\n",
       "      <td>-</td>\n",
       "      <td>.</td>\n",
       "      <td>ID=rna0;Parent=gene0;Dbxref=GeneID:851229,Genb...</td>\n",
       "    </tr>\n",
       "  </tbody>\n",
       "</table>\n",
       "</div>"
      ],
      "text/plain": [
       "       seqname  source                feature  start     end score strand  \\\n",
       "0  NC_001133.9  RefSeq                 region      1  230218     .      +   \n",
       "1  NC_001133.9  RefSeq               telomere      1     801     .      -   \n",
       "2  NC_001133.9  RefSeq  origin_of_replication    707     776     .      +   \n",
       "3  NC_001133.9  RefSeq                   gene   1807    2169     .      -   \n",
       "4  NC_001133.9  RefSeq                   mRNA   1807    2169     .      -   \n",
       "\n",
       "  frame                                          attribute  \n",
       "0     .  ID=id0;Dbxref=taxon:559292;Name=I;chromosome=I...  \n",
       "1     .  ID=id1;Dbxref=SGD:S000028862;Note=TEL01L%3B Te...  \n",
       "2     .  ID=id2;Dbxref=SGD:S000121252;Note=ARS102~Auton...  \n",
       "3     .  ID=gene0;Dbxref=GeneID:851229;Name=PAU8;end_ra...  \n",
       "4     .  ID=rna0;Parent=gene0;Dbxref=GeneID:851229,Genb...  "
      ]
     },
     "execution_count": 7,
     "metadata": {},
     "output_type": "execute_result"
    }
   ],
   "source": [
    "# url to the GFF file on the NCBI FTP site\n",
    "url = \"https://ftp.ncbi.nlm.nih.gov/genomes/refseq/fungi/Saccharomyces_cerevisiae/reference/GCF_000146045.2_R64/GCF_000146045.2_R64_genomic.gff.gz\"\n",
    "\n",
    "# read csv function with arguments to parse the file\n",
    "gff = pd.read_csv(\n",
    "    url, \n",
    "    sep=\"\\t\", \n",
    "    header=None,\n",
    "    comment=\"#\", \n",
    "    names=(\"seqname\", \"source\", \"feature\", \"start\",\n",
    "           \"end\", \"score\", \"strand\", \"frame\", \"attribute\"),\n",
    ")\n",
    "\n",
    "# return the dataframe\n",
    "gff.head()"
   ]
  },
  {
   "cell_type": "markdown",
   "metadata": {},
   "source": [
    "### Fancy indexing\n",
    "\n",
    "Let's repeat the exercise we implemented in our first session of trying to select rows and columns from a table of data that fit some filtering criterion that we're interested in. Here, we will try to select all of the features in the GFF that are telomeres so we can extract their start and stop positions. This is *much* easier and nicer looking in Pandas than it is by using bash scripting. "
   ]
  },
  {
   "cell_type": "code",
   "execution_count": 8,
   "metadata": {},
   "outputs": [
    {
     "data": {
      "text/plain": [
       "0    False\n",
       "1     True\n",
       "2    False\n",
       "3    False\n",
       "4    False\n",
       "5    False\n",
       "6    False\n",
       "7    False\n",
       "8    False\n",
       "9    False\n",
       "Name: feature, dtype: bool"
      ]
     },
     "execution_count": 8,
     "metadata": {},
     "output_type": "execute_result"
    }
   ],
   "source": [
    "# create a boolean mask of the feature column asking 'is it a telomere?'\n",
    "mask = gff.feature == \"telomere\"\n",
    "\n",
    "# show the first 10 values\n",
    "mask.head(10)"
   ]
  },
  {
   "cell_type": "code",
   "execution_count": 9,
   "metadata": {},
   "outputs": [
    {
     "data": {
      "text/html": [
       "<div>\n",
       "<style scoped>\n",
       "    .dataframe tbody tr th:only-of-type {\n",
       "        vertical-align: middle;\n",
       "    }\n",
       "\n",
       "    .dataframe tbody tr th {\n",
       "        vertical-align: top;\n",
       "    }\n",
       "\n",
       "    .dataframe thead th {\n",
       "        text-align: right;\n",
       "    }\n",
       "</style>\n",
       "<table border=\"1\" class=\"dataframe\">\n",
       "  <thead>\n",
       "    <tr style=\"text-align: right;\">\n",
       "      <th></th>\n",
       "      <th>seqname</th>\n",
       "      <th>source</th>\n",
       "      <th>feature</th>\n",
       "      <th>start</th>\n",
       "      <th>end</th>\n",
       "      <th>score</th>\n",
       "      <th>strand</th>\n",
       "      <th>frame</th>\n",
       "      <th>attribute</th>\n",
       "    </tr>\n",
       "  </thead>\n",
       "  <tbody>\n",
       "    <tr>\n",
       "      <th>1</th>\n",
       "      <td>NC_001133.9</td>\n",
       "      <td>RefSeq</td>\n",
       "      <td>telomere</td>\n",
       "      <td>1</td>\n",
       "      <td>801</td>\n",
       "      <td>.</td>\n",
       "      <td>-</td>\n",
       "      <td>.</td>\n",
       "      <td>ID=id1;Dbxref=SGD:S000028862;Note=TEL01L%3B Te...</td>\n",
       "    </tr>\n",
       "    <tr>\n",
       "      <th>432</th>\n",
       "      <td>NC_001133.9</td>\n",
       "      <td>RefSeq</td>\n",
       "      <td>telomere</td>\n",
       "      <td>229411</td>\n",
       "      <td>230218</td>\n",
       "      <td>.</td>\n",
       "      <td>+</td>\n",
       "      <td>.</td>\n",
       "      <td>ID=id133;Dbxref=SGD:S000028937;Note=TEL01R%3B ...</td>\n",
       "    </tr>\n",
       "    <tr>\n",
       "      <th>434</th>\n",
       "      <td>NC_001134.8</td>\n",
       "      <td>RefSeq</td>\n",
       "      <td>telomere</td>\n",
       "      <td>1</td>\n",
       "      <td>6608</td>\n",
       "      <td>.</td>\n",
       "      <td>-</td>\n",
       "      <td>.</td>\n",
       "      <td>ID=id135;Dbxref=SGD:S000028867;Note=TEL02L%3B ...</td>\n",
       "    </tr>\n",
       "    <tr>\n",
       "      <th>2257</th>\n",
       "      <td>NC_001134.8</td>\n",
       "      <td>RefSeq</td>\n",
       "      <td>telomere</td>\n",
       "      <td>812379</td>\n",
       "      <td>813184</td>\n",
       "      <td>.</td>\n",
       "      <td>+</td>\n",
       "      <td>.</td>\n",
       "      <td>ID=id649;Dbxref=SGD:S000028940;Note=TEL02R%3B ...</td>\n",
       "    </tr>\n",
       "    <tr>\n",
       "      <th>2259</th>\n",
       "      <td>NC_001135.5</td>\n",
       "      <td>RefSeq</td>\n",
       "      <td>telomere</td>\n",
       "      <td>1</td>\n",
       "      <td>1098</td>\n",
       "      <td>.</td>\n",
       "      <td>-</td>\n",
       "      <td>.</td>\n",
       "      <td>ID=id651;Dbxref=SGD:S000028871;Note=TEL03L%3B ...</td>\n",
       "    </tr>\n",
       "  </tbody>\n",
       "</table>\n",
       "</div>"
      ],
      "text/plain": [
       "          seqname  source   feature   start     end score strand frame  \\\n",
       "1     NC_001133.9  RefSeq  telomere       1     801     .      -     .   \n",
       "432   NC_001133.9  RefSeq  telomere  229411  230218     .      +     .   \n",
       "434   NC_001134.8  RefSeq  telomere       1    6608     .      -     .   \n",
       "2257  NC_001134.8  RefSeq  telomere  812379  813184     .      +     .   \n",
       "2259  NC_001135.5  RefSeq  telomere       1    1098     .      -     .   \n",
       "\n",
       "                                              attribute  \n",
       "1     ID=id1;Dbxref=SGD:S000028862;Note=TEL01L%3B Te...  \n",
       "432   ID=id133;Dbxref=SGD:S000028937;Note=TEL01R%3B ...  \n",
       "434   ID=id135;Dbxref=SGD:S000028867;Note=TEL02L%3B ...  \n",
       "2257  ID=id649;Dbxref=SGD:S000028940;Note=TEL02R%3B ...  \n",
       "2259  ID=id651;Dbxref=SGD:S000028871;Note=TEL03L%3B ...  "
      ]
     },
     "execution_count": 9,
     "metadata": {},
     "output_type": "execute_result"
    }
   ],
   "source": [
    "# use this mask to select only rows that are telomeres\n",
    "telomeres = gff[mask]\n",
    "\n",
    "# return the first 10 value\n",
    "telomeres.head()"
   ]
  },
  {
   "cell_type": "code",
   "execution_count": 10,
   "metadata": {},
   "outputs": [
    {
     "data": {
      "text/html": [
       "<div>\n",
       "<style scoped>\n",
       "    .dataframe tbody tr th:only-of-type {\n",
       "        vertical-align: middle;\n",
       "    }\n",
       "\n",
       "    .dataframe tbody tr th {\n",
       "        vertical-align: top;\n",
       "    }\n",
       "\n",
       "    .dataframe thead th {\n",
       "        text-align: right;\n",
       "    }\n",
       "</style>\n",
       "<table border=\"1\" class=\"dataframe\">\n",
       "  <thead>\n",
       "    <tr style=\"text-align: right;\">\n",
       "      <th></th>\n",
       "      <th>seqname</th>\n",
       "      <th>source</th>\n",
       "      <th>feature</th>\n",
       "      <th>start</th>\n",
       "      <th>end</th>\n",
       "      <th>score</th>\n",
       "      <th>strand</th>\n",
       "      <th>frame</th>\n",
       "      <th>attribute</th>\n",
       "    </tr>\n",
       "  </thead>\n",
       "  <tbody>\n",
       "    <tr>\n",
       "      <th>1</th>\n",
       "      <td>NC_001133.9</td>\n",
       "      <td>RefSeq</td>\n",
       "      <td>telomere</td>\n",
       "      <td>1</td>\n",
       "      <td>801</td>\n",
       "      <td>.</td>\n",
       "      <td>-</td>\n",
       "      <td>.</td>\n",
       "      <td>ID=id1;Dbxref=SGD:S000028862;Note=TEL01L%3B Te...</td>\n",
       "    </tr>\n",
       "    <tr>\n",
       "      <th>432</th>\n",
       "      <td>NC_001133.9</td>\n",
       "      <td>RefSeq</td>\n",
       "      <td>telomere</td>\n",
       "      <td>229411</td>\n",
       "      <td>230218</td>\n",
       "      <td>.</td>\n",
       "      <td>+</td>\n",
       "      <td>.</td>\n",
       "      <td>ID=id133;Dbxref=SGD:S000028937;Note=TEL01R%3B ...</td>\n",
       "    </tr>\n",
       "    <tr>\n",
       "      <th>434</th>\n",
       "      <td>NC_001134.8</td>\n",
       "      <td>RefSeq</td>\n",
       "      <td>telomere</td>\n",
       "      <td>1</td>\n",
       "      <td>6608</td>\n",
       "      <td>.</td>\n",
       "      <td>-</td>\n",
       "      <td>.</td>\n",
       "      <td>ID=id135;Dbxref=SGD:S000028867;Note=TEL02L%3B ...</td>\n",
       "    </tr>\n",
       "    <tr>\n",
       "      <th>2257</th>\n",
       "      <td>NC_001134.8</td>\n",
       "      <td>RefSeq</td>\n",
       "      <td>telomere</td>\n",
       "      <td>812379</td>\n",
       "      <td>813184</td>\n",
       "      <td>.</td>\n",
       "      <td>+</td>\n",
       "      <td>.</td>\n",
       "      <td>ID=id649;Dbxref=SGD:S000028940;Note=TEL02R%3B ...</td>\n",
       "    </tr>\n",
       "    <tr>\n",
       "      <th>2259</th>\n",
       "      <td>NC_001135.5</td>\n",
       "      <td>RefSeq</td>\n",
       "      <td>telomere</td>\n",
       "      <td>1</td>\n",
       "      <td>1098</td>\n",
       "      <td>.</td>\n",
       "      <td>-</td>\n",
       "      <td>.</td>\n",
       "      <td>ID=id651;Dbxref=SGD:S000028871;Note=TEL03L%3B ...</td>\n",
       "    </tr>\n",
       "  </tbody>\n",
       "</table>\n",
       "</div>"
      ],
      "text/plain": [
       "          seqname  source   feature   start     end score strand frame  \\\n",
       "1     NC_001133.9  RefSeq  telomere       1     801     .      -     .   \n",
       "432   NC_001133.9  RefSeq  telomere  229411  230218     .      +     .   \n",
       "434   NC_001134.8  RefSeq  telomere       1    6608     .      -     .   \n",
       "2257  NC_001134.8  RefSeq  telomere  812379  813184     .      +     .   \n",
       "2259  NC_001135.5  RefSeq  telomere       1    1098     .      -     .   \n",
       "\n",
       "                                              attribute  \n",
       "1     ID=id1;Dbxref=SGD:S000028862;Note=TEL01L%3B Te...  \n",
       "432   ID=id133;Dbxref=SGD:S000028937;Note=TEL01R%3B ...  \n",
       "434   ID=id135;Dbxref=SGD:S000028867;Note=TEL02L%3B ...  \n",
       "2257  ID=id649;Dbxref=SGD:S000028940;Note=TEL02R%3B ...  \n",
       "2259  ID=id651;Dbxref=SGD:S000028871;Note=TEL03L%3B ...  "
      ]
     },
     "execution_count": 10,
     "metadata": {},
     "output_type": "execute_result"
    }
   ],
   "source": [
    "# or, we could have written the above code more concisely as a single line:\n",
    "gff[gff.feature == \"telomere\"].head()"
   ]
  },
  {
   "cell_type": "markdown",
   "metadata": {},
   "source": [
    "<div class=\"alert alert-success\">\n",
    "    <b>Action [13]:</b> \n",
    "    Using pandas count the number of genes in the yeast GFF DataFrame in code cell below. \n",
    "</div>"
   ]
  },
  {
   "cell_type": "code",
   "execution_count": 11,
   "metadata": {},
   "outputs": [
    {
     "data": {
      "text/plain": [
       "6427"
      ]
     },
     "execution_count": 11,
     "metadata": {},
     "output_type": "execute_result"
    }
   ],
   "source": [
    "gff[gff.feature == \"gene\"].shape[0]"
   ]
  },
  {
   "cell_type": "markdown",
   "metadata": {},
   "source": [
    "### Parsing attributes from the GFF\n",
    "\n",
    "As before, much of the data of the GFF file is in the final column called attributes. We can parse this information as with any type of string, by splitting on the delimiter in the text which is a semicolon. Let's try extracting the first ten genes and see what kind of information is in their attributes. "
   ]
  },
  {
   "cell_type": "code",
   "execution_count": 12,
   "metadata": {},
   "outputs": [
    {
     "data": {
      "text/html": [
       "<div>\n",
       "<style scoped>\n",
       "    .dataframe tbody tr th:only-of-type {\n",
       "        vertical-align: middle;\n",
       "    }\n",
       "\n",
       "    .dataframe tbody tr th {\n",
       "        vertical-align: top;\n",
       "    }\n",
       "\n",
       "    .dataframe thead th {\n",
       "        text-align: right;\n",
       "    }\n",
       "</style>\n",
       "<table border=\"1\" class=\"dataframe\">\n",
       "  <thead>\n",
       "    <tr style=\"text-align: right;\">\n",
       "      <th></th>\n",
       "      <th>seqname</th>\n",
       "      <th>source</th>\n",
       "      <th>feature</th>\n",
       "      <th>start</th>\n",
       "      <th>end</th>\n",
       "      <th>score</th>\n",
       "      <th>strand</th>\n",
       "      <th>frame</th>\n",
       "      <th>attribute</th>\n",
       "    </tr>\n",
       "  </thead>\n",
       "  <tbody>\n",
       "    <tr>\n",
       "      <th>3</th>\n",
       "      <td>NC_001133.9</td>\n",
       "      <td>RefSeq</td>\n",
       "      <td>gene</td>\n",
       "      <td>1807</td>\n",
       "      <td>2169</td>\n",
       "      <td>.</td>\n",
       "      <td>-</td>\n",
       "      <td>.</td>\n",
       "      <td>ID=gene0;Dbxref=GeneID:851229;Name=PAU8;end_ra...</td>\n",
       "    </tr>\n",
       "    <tr>\n",
       "      <th>7</th>\n",
       "      <td>NC_001133.9</td>\n",
       "      <td>RefSeq</td>\n",
       "      <td>gene</td>\n",
       "      <td>2480</td>\n",
       "      <td>2707</td>\n",
       "      <td>.</td>\n",
       "      <td>+</td>\n",
       "      <td>.</td>\n",
       "      <td>ID=gene1;Dbxref=GeneID:1466426;Name=YAL067W-A;...</td>\n",
       "    </tr>\n",
       "    <tr>\n",
       "      <th>11</th>\n",
       "      <td>NC_001133.9</td>\n",
       "      <td>RefSeq</td>\n",
       "      <td>gene</td>\n",
       "      <td>7235</td>\n",
       "      <td>9016</td>\n",
       "      <td>.</td>\n",
       "      <td>-</td>\n",
       "      <td>.</td>\n",
       "      <td>ID=gene2;Dbxref=GeneID:851230;Name=SEO1;end_ra...</td>\n",
       "    </tr>\n",
       "    <tr>\n",
       "      <th>16</th>\n",
       "      <td>NC_001133.9</td>\n",
       "      <td>RefSeq</td>\n",
       "      <td>gene</td>\n",
       "      <td>11565</td>\n",
       "      <td>11951</td>\n",
       "      <td>.</td>\n",
       "      <td>-</td>\n",
       "      <td>.</td>\n",
       "      <td>ID=gene3;Dbxref=GeneID:851232;Name=YAL065C;end...</td>\n",
       "    </tr>\n",
       "    <tr>\n",
       "      <th>20</th>\n",
       "      <td>NC_001133.9</td>\n",
       "      <td>RefSeq</td>\n",
       "      <td>gene</td>\n",
       "      <td>12046</td>\n",
       "      <td>12426</td>\n",
       "      <td>.</td>\n",
       "      <td>+</td>\n",
       "      <td>.</td>\n",
       "      <td>ID=gene4;Dbxref=GeneID:851233;Name=YAL064W-B;e...</td>\n",
       "    </tr>\n",
       "  </tbody>\n",
       "</table>\n",
       "</div>"
      ],
      "text/plain": [
       "        seqname  source feature  start    end score strand frame  \\\n",
       "3   NC_001133.9  RefSeq    gene   1807   2169     .      -     .   \n",
       "7   NC_001133.9  RefSeq    gene   2480   2707     .      +     .   \n",
       "11  NC_001133.9  RefSeq    gene   7235   9016     .      -     .   \n",
       "16  NC_001133.9  RefSeq    gene  11565  11951     .      -     .   \n",
       "20  NC_001133.9  RefSeq    gene  12046  12426     .      +     .   \n",
       "\n",
       "                                            attribute  \n",
       "3   ID=gene0;Dbxref=GeneID:851229;Name=PAU8;end_ra...  \n",
       "7   ID=gene1;Dbxref=GeneID:1466426;Name=YAL067W-A;...  \n",
       "11  ID=gene2;Dbxref=GeneID:851230;Name=SEO1;end_ra...  \n",
       "16  ID=gene3;Dbxref=GeneID:851232;Name=YAL065C;end...  \n",
       "20  ID=gene4;Dbxref=GeneID:851233;Name=YAL064W-B;e...  "
      ]
     },
     "execution_count": 12,
     "metadata": {},
     "output_type": "execute_result"
    }
   ],
   "source": [
    "# select only gene rows\n",
    "gff[gff.feature == \"gene\"].head(5)"
   ]
  },
  {
   "cell_type": "code",
   "execution_count": 13,
   "metadata": {},
   "outputs": [
    {
     "data": {
      "text/plain": [
       "3     ID=gene0;Dbxref=GeneID:851229;Name=PAU8;end_ra...\n",
       "7     ID=gene1;Dbxref=GeneID:1466426;Name=YAL067W-A;...\n",
       "11    ID=gene2;Dbxref=GeneID:851230;Name=SEO1;end_ra...\n",
       "16    ID=gene3;Dbxref=GeneID:851232;Name=YAL065C;end...\n",
       "20    ID=gene4;Dbxref=GeneID:851233;Name=YAL064W-B;e...\n",
       "Name: attribute, dtype: object"
      ]
     },
     "execution_count": 13,
     "metadata": {},
     "output_type": "execute_result"
    }
   ],
   "source": [
    "# select attributes of those rows\n",
    "gff[gff.feature == \"gene\"].attribute.head(5)"
   ]
  },
  {
   "cell_type": "code",
   "execution_count": 14,
   "metadata": {},
   "outputs": [
    {
     "data": {
      "text/plain": [
       "[['ID=gene0',\n",
       "  'Dbxref=GeneID:851229',\n",
       "  'Name=PAU8',\n",
       "  'end_range=2169,.',\n",
       "  'gbkey=Gene',\n",
       "  'gene=PAU8',\n",
       "  'gene_biotype=protein_coding',\n",
       "  'locus_tag=YAL068C',\n",
       "  'partial=true',\n",
       "  'start_range=.,1807'],\n",
       " ['ID=gene1',\n",
       "  'Dbxref=GeneID:1466426',\n",
       "  'Name=YAL067W-A',\n",
       "  'end_range=2707,.',\n",
       "  'gbkey=Gene',\n",
       "  'gene_biotype=protein_coding',\n",
       "  'locus_tag=YAL067W-A',\n",
       "  'partial=true',\n",
       "  'start_range=.,2480'],\n",
       " ['ID=gene2',\n",
       "  'Dbxref=GeneID:851230',\n",
       "  'Name=SEO1',\n",
       "  'end_range=9016,.',\n",
       "  'gbkey=Gene',\n",
       "  'gene=SEO1',\n",
       "  'gene_biotype=protein_coding',\n",
       "  'locus_tag=YAL067C',\n",
       "  'partial=true',\n",
       "  'start_range=.,7235'],\n",
       " ['ID=gene3',\n",
       "  'Dbxref=GeneID:851232',\n",
       "  'Name=YAL065C',\n",
       "  'end_range=11951,.',\n",
       "  'gbkey=Gene',\n",
       "  'gene_biotype=protein_coding',\n",
       "  'locus_tag=YAL065C',\n",
       "  'partial=true',\n",
       "  'start_range=.,11565'],\n",
       " ['ID=gene4',\n",
       "  'Dbxref=GeneID:851233',\n",
       "  'Name=YAL064W-B',\n",
       "  'end_range=12426,.',\n",
       "  'gbkey=Gene',\n",
       "  'gene_biotype=protein_coding',\n",
       "  'locus_tag=YAL064W-B',\n",
       "  'partial=true',\n",
       "  'start_range=.,12046']]"
      ]
     },
     "execution_count": 14,
     "metadata": {},
     "output_type": "execute_result"
    }
   ],
   "source": [
    "# split the string objects of those attribute rows\n",
    "[i.split(\";\") for i in gff[gff.feature == \"gene\"].attribute.head(5)]"
   ]
  },
  {
   "cell_type": "code",
   "execution_count": 15,
   "metadata": {},
   "outputs": [
    {
     "name": "stdout",
     "output_type": "stream",
     "text": [
      "Name=PAU8\n",
      "Name=YAL067W-A\n",
      "Name=SEO1\n",
      "Name=YAL065C\n",
      "Name=YAL064W-B\n",
      "Name=TDA8\n",
      "Name=YAL064W\n",
      "Name=YAL063C-A\n",
      "Name=FLO9\n",
      "Name=GDH3\n"
     ]
    }
   ],
   "source": [
    "# save attributes above as a list for the first ten genes\n",
    "attrs_lists = [i.split(\";\") for i in gff[gff.feature == \"gene\"].attribute.head(10)]\n",
    "\n",
    "# iterate over each list in the list of lists\n",
    "for attrs_list in attrs_lists:\n",
    "    # iterate over each string in the list\n",
    "    for attr in attrs_list:\n",
    "        # if the first four string elements spell Name\n",
    "        if attr[:4] == \"Name\":\n",
    "            print(attr)"
   ]
  },
  {
   "cell_type": "markdown",
   "metadata": {},
   "source": [
    "<div class=\"alert alert-success\">\n",
    "    <b>Action [14]:</b> \n",
    "    Copy the code above into the cell below and modify it to try to select the \"gene_biotype\" of each of the first 20 genes in the DataFrame. \n",
    "</div>"
   ]
  },
  {
   "cell_type": "code",
   "execution_count": 24,
   "metadata": {},
   "outputs": [
    {
     "name": "stdout",
     "output_type": "stream",
     "text": [
      "gene_biotype=protein_coding\n",
      "gene_biotype=protein_coding\n",
      "gene_biotype=protein_coding\n",
      "gene_biotype=protein_coding\n",
      "gene_biotype=protein_coding\n",
      "gene_biotype=protein_coding\n",
      "gene_biotype=protein_coding\n",
      "gene_biotype=protein_coding\n",
      "gene_biotype=protein_coding\n",
      "gene_biotype=protein_coding\n"
     ]
    }
   ],
   "source": [
    "# save attributes above as a list for the first ten genes\n",
    "attrs_lists = [i.split(\";\") for i in gff[gff.feature == \"gene\"].attribute.head(10)]\n",
    "\n",
    "# iterate over each list in the list of lists\n",
    "for attrs_list in attrs_lists:\n",
    "    # iterate over each string in the list\n",
    "    for attr in attrs_list:\n",
    "        \n",
    "        # index the first 12 elements to match 'gene_biotype'\n",
    "        if attr[:12] == \"gene_biotype\":\n",
    "            print(attr)"
   ]
  },
  {
   "cell_type": "markdown",
   "metadata": {},
   "source": [
    "<div class=\"alert alert-success\">\n",
    "    Save and download this notebook as HTML to upload to courseworks.\n",
    "</div>"
   ]
  }
 ],
 "metadata": {
  "kernelspec": {
   "display_name": "Python 3",
   "language": "python",
   "name": "python3"
  },
  "language_info": {
   "codemirror_mode": {
    "name": "ipython",
    "version": 3
   },
   "file_extension": ".py",
   "mimetype": "text/x-python",
   "name": "python",
   "nbconvert_exporter": "python",
   "pygments_lexer": "ipython3",
   "version": "3.6.7"
  }
 },
 "nbformat": 4,
 "nbformat_minor": 2
}
